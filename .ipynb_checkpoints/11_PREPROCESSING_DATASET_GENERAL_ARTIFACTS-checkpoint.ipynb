{
 "cells": [
  {
   "cell_type": "code",
   "execution_count": 1,
   "id": "bc5389f2-60ce-47bd-a1d1-dc610e7dd098",
   "metadata": {
    "scrolled": true
   },
   "outputs": [
    {
     "ename": "FileNotFoundError",
     "evalue": "El archivo EDF no se encontró en la ruta: v3.0.1/edf/01_tcp_ar/aaaaaaju_s007_t000.edf",
     "output_type": "error",
     "traceback": [
      "\u001b[1;31m---------------------------------------------------------------------------\u001b[0m",
      "\u001b[1;31mFileNotFoundError\u001b[0m                         Traceback (most recent call last)",
      "Cell \u001b[1;32mIn[1], line 13\u001b[0m\n\u001b[0;32m     11\u001b[0m \u001b[38;5;66;03m# Verificar que los archivos existan\u001b[39;00m\n\u001b[0;32m     12\u001b[0m \u001b[38;5;28;01mif\u001b[39;00m \u001b[38;5;129;01mnot\u001b[39;00m os\u001b[38;5;241m.\u001b[39mpath\u001b[38;5;241m.\u001b[39mexists(edf_file):\n\u001b[1;32m---> 13\u001b[0m     \u001b[38;5;28;01mraise\u001b[39;00m \u001b[38;5;167;01mFileNotFoundError\u001b[39;00m(\u001b[38;5;124mf\u001b[39m\u001b[38;5;124m\"\u001b[39m\u001b[38;5;124mEl archivo EDF no se encontró en la ruta: \u001b[39m\u001b[38;5;132;01m{\u001b[39;00medf_file\u001b[38;5;132;01m}\u001b[39;00m\u001b[38;5;124m\"\u001b[39m)\n\u001b[0;32m     14\u001b[0m \u001b[38;5;28;01mif\u001b[39;00m \u001b[38;5;129;01mnot\u001b[39;00m os\u001b[38;5;241m.\u001b[39mpath\u001b[38;5;241m.\u001b[39mexists(annotations_file):\n\u001b[0;32m     15\u001b[0m     \u001b[38;5;28;01mraise\u001b[39;00m \u001b[38;5;167;01mFileNotFoundError\u001b[39;00m(\u001b[38;5;124mf\u001b[39m\u001b[38;5;124m\"\u001b[39m\u001b[38;5;124mEl archivo de anotaciones no se encontró en la ruta: \u001b[39m\u001b[38;5;132;01m{\u001b[39;00mannotations_file\u001b[38;5;132;01m}\u001b[39;00m\u001b[38;5;124m\"\u001b[39m)\n",
      "\u001b[1;31mFileNotFoundError\u001b[0m: El archivo EDF no se encontró en la ruta: v3.0.1/edf/01_tcp_ar/aaaaaaju_s007_t000.edf"
     ]
    }
   ],
   "source": [
    "import mne\n",
    "import pandas as pd\n",
    "import matplotlib.pyplot as plt\n",
    "import os\n",
    "%matplotlib qt\n",
    "\n",
    "edf_file = \"v3.0.1/edf/01_tcp_ar/aaaaaaju_s007_t000.edf\"\n",
    "annotations_file = \"v3.0.1/edf/01_tcp_ar/aaaaaaju_s007_t000.csv\"\n",
    "\n",
    "if not os.path.exists(edf_file):\n",
    "    raise FileNotFoundError(f\"El archivo EDF no se encontró en la ruta: {edf_file}\")\n",
    "if not os.path.exists(annotations_file):\n",
    "    raise FileNotFoundError(f\"El archivo de anotaciones no se encontró en la ruta: {annotations_file}\")\n",
    "\n",
    "channel_mapping = {\n",
    "    'EEG FP1-REF': 'Fp1', 'EEG FP2-REF': 'Fp2',\n",
    "    'EEG F3-REF': 'F3', 'EEG F4-REF': 'F4',\n",
    "    'EEG C3-REF': 'C3', 'EEG C4-REF': 'C4',\n",
    "    'EEG P3-REF': 'P3', 'EEG P4-REF': 'P4',\n",
    "    'EEG O1-REF': 'O1', 'EEG O2-REF': 'O2',\n",
    "    'EEG F7-REF': 'F7', 'EEG F8-REF': 'F8',\n",
    "    'EEG T3-REF': 'T3', 'EEG T4-REF': 'T4',\n",
    "    'EEG T5-REF': 'T5', 'EEG T6-REF': 'T6',\n",
    "    'EEG FZ-REF': 'Fz', 'EEG CZ-REF': 'Cz',\n",
    "    'EEG PZ-REF': 'Pz'\n",
    "}\n",
    "\n",
    "raw = mne.io.read_raw_edf(edf_file, preload=True, verbose='ERROR')\n",
    "\n",
    "channels_to_keep = [ch for ch in raw.ch_names if ch in channel_mapping]\n",
    "raw.pick(channels_to_keep)\n",
    "\n",
    "raw.rename_channels(channel_mapping)\n",
    "\n",
    "annotations_df = pd.read_csv(annotations_file, comment='#')\n",
    "\n",
    "annotation_mapping = {ch.split()[1]: new_name for ch, new_name in channel_mapping.items()}\n",
    "\n",
    "def map_annotation_channel(channel):\n",
    "    try:\n",
    "        ch1, ch2 = channel.split('-')\n",
    "        mapped_ch1 = annotation_mapping.get(ch1, ch1)\n",
    "        mapped_ch2 = annotation_mapping.get(ch2, ch2)\n",
    "        return f\"{mapped_ch1}-{mapped_ch2}\"\n",
    "    except ValueError:\n",
    "        return channel\n",
    "\n",
    "annotations_df['channel'] = annotations_df['channel'].map(map_annotation_channel)\n",
    "\n",
    "valid_channels = [f\"{ch1}-{ch2}\" for ch1 in annotation_mapping.values() for ch2 in annotation_mapping.values()]\n",
    "annotations_df = annotations_df[annotations_df['channel'].isin(valid_channels)]\n",
    "\n",
    "annotations = mne.Annotations(\n",
    "    onset=annotations_df['start_time'].values,\n",
    "    duration=(annotations_df['stop_time'] - annotations_df['start_time']).values,\n",
    "    description=annotations_df['label'].values\n",
    ")\n",
    "\n",
    "raw.set_annotations(annotations)\n",
    "\n",
    "raw.plot(\n",
    "    n_channels=len(raw.ch_names),\n",
    "    scalings=dict(eeg=20e-5),\n",
    "    title='EEG with Channel Mapping and Annotations',\n",
    "    show=True,\n",
    "    group_by='original',\n",
    "    remove_dc=False\n",
    ")\n"
   ]
  },
  {
   "cell_type": "code",
   "execution_count": null,
   "id": "54b63ce2-f1d6-48b6-8ecd-bf330b6ec849",
   "metadata": {},
   "outputs": [],
   "source": []
  }
 ],
 "metadata": {
  "kernelspec": {
   "display_name": "Python 3 (ipykernel)",
   "language": "python",
   "name": "python3"
  },
  "language_info": {
   "codemirror_mode": {
    "name": "ipython",
    "version": 3
   },
   "file_extension": ".py",
   "mimetype": "text/x-python",
   "name": "python",
   "nbconvert_exporter": "python",
   "pygments_lexer": "ipython3",
   "version": "3.12.4"
  }
 },
 "nbformat": 4,
 "nbformat_minor": 5
}
