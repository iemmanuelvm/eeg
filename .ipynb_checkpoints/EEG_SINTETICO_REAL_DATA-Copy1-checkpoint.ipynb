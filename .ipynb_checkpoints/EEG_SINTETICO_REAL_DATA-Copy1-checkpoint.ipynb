{
 "cells": [
  {
   "cell_type": "code",
   "execution_count": 6,
   "id": "d6bec4e6-f350-4b1d-8a95-ea76af29e0b0",
   "metadata": {},
   "outputs": [],
   "source": [
    "import numpy as np\n",
    "import mne\n",
    "import matplotlib.pyplot as plt\n",
    "import math\n",
    "%matplotlib qt"
   ]
  },
  {
   "cell_type": "code",
   "execution_count": 2,
   "id": "5632b171-6615-4e1b-bdf3-766f48b12309",
   "metadata": {},
   "outputs": [],
   "source": [
    "def show_data_informations(signal, signal_type):\n",
    "    print(f\"Tipo de datos {signal_type}:\", type(signal))\n",
    "    print(f\"Forma de los datos {signal_type}:\", signal.shape)"
   ]
  },
  {
   "cell_type": "code",
   "execution_count": 3,
   "id": "4a0278ef-99b7-40e2-9a82-2809f84efe01",
   "metadata": {},
   "outputs": [],
   "source": [
    "def generate_data(data, sfreq, ch_names, ch_types, dictionary):\n",
    "    info = mne.create_info(ch_names=ch_names, sfreq=sfreq, ch_types=ch_types)\n",
    "    raw_eog = mne.io.RawArray(data.reshape(1, -1), info)\n",
    "    raw_eog.plot(scalings=dictionary, title='Señal', show=True, block=True)"
   ]
  },
  {
   "cell_type": "code",
   "execution_count": 4,
   "id": "87747fd0-e0ae-4808-b5ba-774e72354193",
   "metadata": {},
   "outputs": [
    {
     "name": "stdout",
     "output_type": "stream",
     "text": [
      "Tipo de datos EOG: <class 'numpy.ndarray'>\n",
      "Forma de los datos EOG: (3400, 512)\n",
      "Tipo de datos EMG: <class 'numpy.ndarray'>\n",
      "Forma de los datos EMG: (5598, 512)\n",
      "Tipo de datos EEG: <class 'numpy.ndarray'>\n",
      "Forma de los datos EEG: (4514, 512)\n"
     ]
    }
   ],
   "source": [
    "EOG_all_epochs = 'EOG_all_epochs.npy'\n",
    "EMG_all_epochs = 'EMG_all_epochs.npy'\n",
    "EEG_all_epochs = 'EEG_all_epochs.npy'\n",
    "\n",
    "eog_data = np.load(EOG_all_epochs)\n",
    "emg_data = np.load(EMG_all_epochs)\n",
    "eeg_data = np.load(EEG_all_epochs)\n",
    "\n",
    "show_data_informations(eog_data, 'EOG')\n",
    "show_data_informations(emg_data, 'EMG')\n",
    "show_data_informations(eeg_data, 'EEG')"
   ]
  },
  {
   "cell_type": "code",
   "execution_count": null,
   "id": "4f03160a-bb48-4995-915d-ff0e6b400c38",
   "metadata": {},
   "outputs": [],
   "source": [
    "generate_data(eog_data, 512, ['EOG'], ['eog'], dict(eog=1000))"
   ]
  },
  {
   "cell_type": "code",
   "execution_count": null,
   "id": "be0e47b3-0ce8-4f5b-af8b-c7c1ae6b4cc3",
   "metadata": {
    "scrolled": true
   },
   "outputs": [],
   "source": [
    "generate_data(emg_data, 512, ['EMG'], ['emg'], dict(emg=100000))"
   ]
  },
  {
   "cell_type": "code",
   "execution_count": null,
   "id": "749af736-ba3b-476b-b434-722fd6ddaf0f",
   "metadata": {},
   "outputs": [],
   "source": [
    "generate_data(eeg_data, 512, ['EEG'], ['eeg'], dict(eeg=10000))"
   ]
  },
  {
   "cell_type": "code",
   "execution_count": 7,
   "id": "31b8be51-bb1e-4cce-9f4e-30cae05b4c49",
   "metadata": {},
   "outputs": [],
   "source": [
    "def get_rms(records):\n",
    "    return math.sqrt(sum([x ** 2 for x in records]) / len(records))\n",
    "\n",
    "def random_signal(signal, combine_num):\n",
    "    random_result=[]\n",
    "\n",
    "    for i in range(combine_num):\n",
    "        random_num = np.random.permutation(signal.shape[0])\n",
    "        shuffled_dataset = signal[random_num, :]\n",
    "        shuffled_dataset = shuffled_dataset.reshape(signal.shape[0],signal.shape[1])\n",
    "        random_result.append(shuffled_dataset)\n",
    "    random_result  = np.array(random_result)\n",
    "    return  random_result"
   ]
  },
  {
   "cell_type": "code",
   "execution_count": null,
   "id": "d6fd7e1f-2b8d-4432-ab18-ba5a0d848ce3",
   "metadata": {},
   "outputs": [],
   "source": [
    "EEG_all_random = np.squeeze(random_signal(signal=eeg_data, combine_num=1))\n",
    "NOISE_all_random_eog = np.squeeze(random_signal(signal=eog_data, combine_num=1))\n",
    "NOISE_all_random_emg = np.squeeze(random_signal(signal=emg_data, combine_num=1))"
   ]
  },
  {
   "cell_type": "code",
   "execution_count": null,
   "id": "4f51851b-eb01-4a32-ac30-1e920c5d1a06",
   "metadata": {},
   "outputs": [],
   "source": [
    "SNR_dB = np.random.uniform(-7, 2, (eeg_data.shape[0]))\n",
    "print(\"Forma de SNR_dB:\", SNR_dB.shape)\n",
    "SNR = 10 ** (0.1 * SNR_dB)"
   ]
  },
  {
   "cell_type": "code",
   "execution_count": null,
   "id": "a7cae90d-e51b-4eef-a564-9f5581d56c4b",
   "metadata": {},
   "outputs": [],
   "source": [
    "num_eeg_samples = EEG_all_random.shape[0]\n",
    "num_eog_samples = eog_data.shape[0]\n",
    "\n",
    "print(\"Número de muestras de EEG:\", num_eeg_samples)\n",
    "print(\"Número de muestras de EOG:\", num_eog_samples)"
   ]
  },
  {
   "cell_type": "code",
   "execution_count": null,
   "id": "601751fa-e119-4173-8435-910104fcd9c0",
   "metadata": {},
   "outputs": [],
   "source": [
    "needed_repetitions_eog = int(np.ceil(num_eeg_samples / num_eog_samples))  # Calcula cuántas veces repetir\n",
    "print(\"Repeticiones necesarias:\", needed_repetitions_eog)\n",
    "\n",
    "needed_repetitions_emg = int(np.ceil(num_eeg_samples / num_emg_samples))  # Calcula cuántas veces repetir\n",
    "print(\"Repeticiones necesarias:\", needed_repetitions_emg)\n",
    "\n",
    "NOISE_all_random_eog = random_signal(signal=eog_data, combine_num=needed_repetitions_eog)\n",
    "NOISE_all_random_eog = NOISE_all_random_eog.reshape(-1, eog_data.shape[1])  # Aplanar a 2D\n",
    "\n",
    "NOISE_all_random_emg = random_signal(signal=emg_data, combine_num=needed_repetitions_eog)\n",
    "NOISE_all_random_emg = NOISE_all_random_emg.reshape(-1, emg_data.shape[1])  # Aplanar a 2D\n",
    "\n",
    "print(\"Número total de muestras de ruido después de aplanar:\", NOISE_all_random_eog.shape[0])\n",
    "print(\"Número total de muestras de ruido después de aplanar:\", NOISE_all_random_emg.shape[0])\n",
    "\n",
    "if NOISE_all_random_eog.shape[0] < num_eeg_samples:\n",
    "    extra_needed = num_eeg_samples - NOISE_all_random_eog.shape[0]\n",
    "    extra_noise = random_signal(signal=eog_data, combine_num=1)\n",
    "    extra_noise = extra_noise.reshape(-1, eog_data.shape[1])\n",
    "    NOISE_all_random_eog = np.concatenate((NOISE_all_random_eog, extra_noise), axis=0)\n",
    "\n",
    "NOISE_all_random_eog = NOISE_all_random_eog[:num_eeg_samples]\n",
    "\n",
    "print(\"Forma final de NOISE_all_random_eog:\", NOISE_all_random_eog.shape)\n",
    "print(\"Forma de EEG_all_random:\", EEG_all_random.shape)\n",
    "\n",
    "SNR_dB = np.random.uniform(-7, 2, num_eeg_samples)\n",
    "SNR = 10 ** (0.1 * SNR_dB)\n",
    "print(\"Forma de SNR:\", SNR.shape)\n",
    "\n",
    "noiseEEG = []\n",
    "NOISE_adjust = []\n",
    "for i in range(num_eeg_samples):\n",
    "    eeg = EEG_all_random[i]\n",
    "    noise = NOISE_all_random_eog[i]\n",
    "\n",
    "    coe = get_rms(eeg) / (get_rms(noise) * SNR[i])\n",
    "    noise = noise * coe\n",
    "    noise_eeg = eeg + noise\n",
    "\n",
    "    NOISE_adjust.append(noise)\n",
    "    noiseEEG.append(noise_eeg)\n",
    "\n",
    "noiseEEG = np.array(noiseEEG)\n",
    "NOISE_adjust = np.array(NOISE_adjust)\n",
    "\n",
    "EEG_end_standard = []\n",
    "noiseEEG_end_standard = []\n",
    "for i in range(num_eeg_samples):\n",
    "    eeg_std = EEG_all_random[i] / np.std(noiseEEG[i])\n",
    "    EEG_end_standard.append(eeg_std)\n",
    "    noiseeeg_std = noiseEEG[i] / np.std(noiseEEG[i])\n",
    "    noiseEEG_end_standard.append(noiseeeg_std)\n",
    "\n",
    "EEG_end_standard = np.array(EEG_end_standard)\n",
    "noiseEEG_end_standard = np.array(noiseEEG_end_standard)\n",
    "\n",
    "print(\"Forma final de EEG_end_standard:\", EEG_end_standard.shape)\n",
    "print(\"Forma final de noiseEEG_end_standard:\", noiseEEG_end_standard.shape)"
   ]
  },
  {
   "cell_type": "code",
   "execution_count": null,
   "id": "c80aab7e-cb50-4774-b589-915518b1ca9f",
   "metadata": {},
   "outputs": [],
   "source": [
    "generate_data(EEG_end_standard, 512, ['EEG'], ['eeg'], dict(eeg=10))"
   ]
  },
  {
   "cell_type": "code",
   "execution_count": null,
   "id": "982d0f9a-d19a-4649-99d3-4e4759d6a3d6",
   "metadata": {},
   "outputs": [],
   "source": [
    "generate_data(noiseEEG_end_standard, 512, ['EEG'], ['eeg'], dict(eeg=10))"
   ]
  },
  {
   "cell_type": "code",
   "execution_count": null,
   "id": "1b9bc008-d814-4ec2-81b6-36328205bac9",
   "metadata": {},
   "outputs": [],
   "source": [
    "noiseEEG_flat = noiseEEG_end_standard.flatten()\n",
    "EEG_flat = EEG_end_standard.flatten()\n",
    "data = np.vstack((noiseEEG_flat, EEG_flat))\n",
    "sfreq = 512\n",
    "info = mne.create_info(ch_names=['noiseEEG', 'EEG'], sfreq=sfreq, ch_types=['eeg', 'eeg'])\n",
    "raw = mne.io.RawArray(data, info)\n",
    "raw.plot(scalings=dict(eeg=10))"
   ]
  },
  {
   "cell_type": "code",
   "execution_count": 9,
   "id": "d43a312c-5d55-4a6c-b062-5ca483c3237b",
   "metadata": {},
   "outputs": [
    {
     "name": "stdout",
     "output_type": "stream",
     "text": [
      "Forma final de NOISE_all_random_eog: (4514, 512)\n",
      "Forma final de NOISE_all_random_emg: (4514, 512)\n",
      "Forma de EEG_all_random: (4514, 512)\n"
     ]
    }
   ],
   "source": [
    "import numpy as np\n",
    "\n",
    "# Generar señales aleatorias de EEG, EOG y EMG\n",
    "EEG_all_random = np.squeeze(random_signal(signal=eeg_data, combine_num=1))\n",
    "NOISE_all_random_eog = np.squeeze(random_signal(signal=eog_data, combine_num=1))\n",
    "NOISE_all_random_emg = np.squeeze(random_signal(signal=emg_data, combine_num=1))\n",
    "\n",
    "# Generar SNR en dB\n",
    "SNR_dB = np.random.uniform(-7, 2, EEG_all_random.shape[0])\n",
    "SNR = 10 ** (0.1 * SNR_dB)\n",
    "\n",
    "# Ajuste del número de muestras\n",
    "num_eeg_samples = EEG_all_random.shape[0]\n",
    "num_eog_samples = eog_data.shape[0]\n",
    "num_emg_samples = emg_data.shape[0]\n",
    "\n",
    "# Calcular repeticiones necesarias para EOG y EMG\n",
    "needed_repetitions_eog = int(np.ceil(num_eeg_samples / num_eog_samples))\n",
    "needed_repetitions_emg = int(np.ceil(num_eeg_samples / num_emg_samples))\n",
    "\n",
    "# Generar ruido EOG y EMG repetido y aplanar a 2D\n",
    "NOISE_all_random_eog = random_signal(signal=eog_data, combine_num=needed_repetitions_eog)\n",
    "NOISE_all_random_eog = NOISE_all_random_eog.reshape(-1, eog_data.shape[1])\n",
    "\n",
    "NOISE_all_random_emg = random_signal(signal=emg_data, combine_num=needed_repetitions_emg)\n",
    "NOISE_all_random_emg = NOISE_all_random_emg.reshape(-1, emg_data.shape[1])\n",
    "\n",
    "# Ajustar el tamaño del ruido si es menor al número de muestras de EEG\n",
    "if NOISE_all_random_eog.shape[0] < num_eeg_samples:\n",
    "    extra_needed = num_eeg_samples - NOISE_all_random_eog.shape[0]\n",
    "    extra_noise = random_signal(signal=eog_data, combine_num=1).reshape(-1, eog_data.shape[1])\n",
    "    NOISE_all_random_eog = np.concatenate((NOISE_all_random_eog, extra_noise), axis=0)\n",
    "\n",
    "if NOISE_all_random_emg.shape[0] < num_eeg_samples:\n",
    "    extra_needed = num_eeg_samples - NOISE_all_random_emg.shape[0]\n",
    "    extra_noise = random_signal(signal=emg_data, combine_num=1).reshape(-1, emg_data.shape[1])\n",
    "    NOISE_all_random_emg = np.concatenate((NOISE_all_random_emg, extra_noise), axis=0)\n",
    "\n",
    "# Recortar el ruido a la misma longitud que EEG\n",
    "NOISE_all_random_eog = NOISE_all_random_eog[:num_eeg_samples]\n",
    "NOISE_all_random_emg = NOISE_all_random_emg[:num_eeg_samples]\n",
    "\n",
    "print(\"Forma final de NOISE_all_random_eog:\", NOISE_all_random_eog.shape)\n",
    "print(\"Forma final de NOISE_all_random_emg:\", NOISE_all_random_emg.shape)\n",
    "print(\"Forma de EEG_all_random:\", EEG_all_random.shape)\n",
    "\n",
    "# Ajuste de ruido y combinación de señales\n",
    "noiseEEG = []\n",
    "NOISE_adjust_eog = []\n",
    "NOISE_adjust_emg = []\n",
    "\n",
    "for i in range(num_eeg_samples):\n",
    "    eeg = EEG_all_random[i]\n",
    "    noise_eog = NOISE_all_random_eog[i]\n",
    "    noise_emg = NOISE_all_random_emg[i]\n",
    "\n",
    "    # Ajustar EOG\n",
    "    coe_eog = get_rms(eeg) / (get_rms(noise_eog) * SNR[i])\n",
    "    noise_eog = noise_eog * coe_eog\n",
    "\n",
    "    # Ajustar EMG\n",
    "    coe_emg = get_rms(eeg) / (get_rms(noise_emg) * SNR[i])\n",
    "    noise_emg = noise_emg * coe_emg\n",
    "\n",
    "    # Sumar ruido EOG y EMG al EEG\n",
    "    combined_noise = noise_eog + noise_emg\n",
    "    noise_eeg = eeg + combined_noise\n",
    "\n",
    "    NOISE_adjust_eog.append(noise_eog)\n",
    "    NOISE_adjust_emg.append(noise_emg)\n",
    "    noiseEEG.append(noise_eeg)\n",
    "\n",
    "# Convertir a arreglos numpy\n",
    "noiseEEG = np.array(noiseEEG)\n",
    "NOISE_adjust_eog = np.array(NOISE_adjust_eog)\n",
    "NOISE_adjust_emg = np.array(NOISE_adjust_emg)\n",
    "\n"
   ]
  },
  {
   "cell_type": "code",
   "execution_count": null,
   "id": "0ecf2a06-a48f-4d06-bb0d-1985dc5e9b59",
   "metadata": {},
   "outputs": [],
   "source": []
  }
 ],
 "metadata": {
  "kernelspec": {
   "display_name": "Python 3 (ipykernel)",
   "language": "python",
   "name": "python3"
  },
  "language_info": {
   "codemirror_mode": {
    "name": "ipython",
    "version": 3
   },
   "file_extension": ".py",
   "mimetype": "text/x-python",
   "name": "python",
   "nbconvert_exporter": "python",
   "pygments_lexer": "ipython3",
   "version": "3.12.4"
  }
 },
 "nbformat": 4,
 "nbformat_minor": 5
}
