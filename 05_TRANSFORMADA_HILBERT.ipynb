{
 "cells": [
  {
   "cell_type": "code",
   "execution_count": null,
   "id": "401652c3-3473-4345-8cf3-ad56120d6495",
   "metadata": {},
   "outputs": [],
   "source": [
    "import numpy as np\n",
    "import matplotlib.pyplot as plt\n",
    "from scipy.signal import hilbert"
   ]
  },
  {
   "cell_type": "code",
   "execution_count": null,
   "id": "5fd7d68f-9113-4f8f-9d45-d6a225547f86",
   "metadata": {},
   "outputs": [],
   "source": [
    "fs = 1000\n",
    "t = np.linspace(0, 1, fs, endpoint=False)\n",
    "signal = np.sin(2 * np.pi * 50 * t) + 0.5 * np.random.randn(fs)"
   ]
  },
  {
   "cell_type": "code",
   "execution_count": null,
   "id": "a7eb9611-cf70-47c2-a975-e2c3483e2830",
   "metadata": {},
   "outputs": [],
   "source": [
    "analytic_signal = hilbert(signal)\n",
    "amplitude_envelope = np.abs(analytic_signal)\n",
    "instantaneous_phase = np.angle(analytic_signal)"
   ]
  },
  {
   "cell_type": "code",
   "execution_count": null,
   "id": "a5958384-8b23-48c5-943f-5e3684aa01ce",
   "metadata": {},
   "outputs": [],
   "source": [
    "recovered_signal = np.real(analytic_signal)"
   ]
  },
  {
   "cell_type": "code",
   "execution_count": null,
   "id": "74d182f1-19d7-48a0-95e9-d0034885a244",
   "metadata": {},
   "outputs": [],
   "source": [
    "# Plot the original and reconstructed signals\n",
    "plt.figure(figsize=(12, 6))\n",
    "plt.subplot(2, 1, 1)\n",
    "plt.plot(t, signal, label='Original Signal')\n",
    "plt.title('Original Signal (Time Domain)')\n",
    "plt.xlabel('Time [s]')\n",
    "plt.ylabel('Amplitude')\n",
    "plt.legend()\n",
    "\n",
    "plt.subplot(2, 1, 2)\n",
    "plt.plot(t[:len(recovered_signal)], recovered_signal, label='Reconstructed Signal', color='orange')\n",
    "plt.title('Reconstructed Signal from DWT')\n",
    "plt.xlabel('Time [s]')\n",
    "plt.ylabel('Amplitude')\n",
    "plt.legend()\n",
    "\n",
    "plt.tight_layout()\n",
    "plt.show()"
   ]
  },
  {
   "cell_type": "code",
   "execution_count": null,
   "id": "9e892fa6-37a2-43a6-83f6-b02b5599c91d",
   "metadata": {},
   "outputs": [],
   "source": []
  }
 ],
 "metadata": {
  "kernelspec": {
   "display_name": "Python 3 (ipykernel)",
   "language": "python",
   "name": "python3"
  },
  "language_info": {
   "codemirror_mode": {
    "name": "ipython",
    "version": 3
   },
   "file_extension": ".py",
   "mimetype": "text/x-python",
   "name": "python",
   "nbconvert_exporter": "python",
   "pygments_lexer": "ipython3",
   "version": "3.12.4"
  }
 },
 "nbformat": 4,
 "nbformat_minor": 5
}
