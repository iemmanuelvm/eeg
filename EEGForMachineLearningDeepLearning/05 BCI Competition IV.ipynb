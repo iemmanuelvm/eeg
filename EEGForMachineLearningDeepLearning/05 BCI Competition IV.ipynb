{
 "cells": [
  {
   "cell_type": "code",
   "execution_count": 1,
   "id": "ce56f580-21b9-4fac-9a1b-b07140dc958a",
   "metadata": {},
   "outputs": [],
   "source": [
    "## analyse the data\n",
    "import mne"
   ]
  },
  {
   "cell_type": "code",
   "execution_count": 3,
   "id": "13853340-b20f-4b37-a8fb-47143b79e1b2",
   "metadata": {},
   "outputs": [
    {
     "name": "stdout",
     "output_type": "stream",
     "text": [
      "Extracting EDF parameters from C:\\doctorado-en-ciencias-en-ciencias-de-datos\\eeg-ml-dl\\BCICIV_2a_gdf\\A04T.gdf...\n",
      "GDF file detected\n",
      "Setting channel info structure...\n",
      "Could not determine channel type of the following channels, they will be set as EEG:\n",
      "EEG-Fz, EEG, EEG, EEG, EEG, EEG, EEG, EEG-C3, EEG, EEG-Cz, EEG, EEG-C4, EEG, EEG, EEG, EEG, EEG, EEG, EEG, EEG-Pz, EEG, EEG\n",
      "Creating raw.info structure...\n"
     ]
    },
    {
     "name": "stderr",
     "output_type": "stream",
     "text": [
      "C:\\Users\\iemma\\anaconda3\\Lib\\contextlib.py:144: RuntimeWarning: Channel names are not unique, found duplicates for: {'EEG'}. Applying running numbers for duplicates.\n",
      "  next(self.gen)\n"
     ]
    },
    {
     "data": {
      "text/html": [
       "<details open>\n",
       "    <summary><strong>General</strong></summary>\n",
       "    <table class=\"table table-hover table-striped table-sm table-responsive small\">\n",
       "        <tr>\n",
       "            <th>Measurement date</th>\n",
       "            \n",
       "            <td>November 08, 2004  12:00:00 GMT</td>\n",
       "            \n",
       "        </tr>\n",
       "        <tr>\n",
       "            <th>Experimenter</th>\n",
       "            \n",
       "            <td>Unknown</td>\n",
       "            \n",
       "        </tr>\n",
       "        <tr>\n",
       "            <th>Participant</th>\n",
       "            \n",
       "            \n",
       "            <td>A04</td>\n",
       "            \n",
       "            \n",
       "        </tr>\n",
       "    </table>\n",
       "    </details>\n",
       "    <details open>\n",
       "        <summary><strong>Channels</strong></summary>\n",
       "        <table class=\"table table-hover table-striped table-sm table-responsive small\">\n",
       "            <tr>\n",
       "                <th>Digitized points</th>\n",
       "                \n",
       "                <td>Not available</td>\n",
       "                \n",
       "            </tr>\n",
       "            <tr>\n",
       "                <th>Good channels</th>\n",
       "                <td>22 EEG</td>\n",
       "            </tr>\n",
       "            <tr>\n",
       "                <th>Bad channels</th>\n",
       "                <td>None</td>\n",
       "            </tr>\n",
       "            <tr>\n",
       "                <th>EOG channels</th>\n",
       "                <td>Not available</td>\n",
       "            </tr>\n",
       "            <tr>\n",
       "                <th>ECG channels</th>\n",
       "                <td>Not available</td>\n",
       "            </tr>\n",
       "        </table>\n",
       "        </details>\n",
       "        <details open>\n",
       "            <summary><strong>Data</strong></summary>\n",
       "            <table class=\"table table-hover table-striped table-sm table-responsive small\">\n",
       "                \n",
       "                <tr>\n",
       "                    <th>Sampling frequency</th>\n",
       "                    <td>250.00 Hz</td>\n",
       "                </tr>\n",
       "                \n",
       "                \n",
       "                <tr>\n",
       "                    <th>Highpass</th>\n",
       "                    <td>0.50 Hz</td>\n",
       "                </tr>\n",
       "                \n",
       "                \n",
       "                <tr>\n",
       "                    <th>Lowpass</th>\n",
       "                    <td>100.00 Hz</td>\n",
       "                </tr>\n",
       "                \n",
       "                \n",
       "                \n",
       "                <tr>\n",
       "                    <th>Filenames</th>\n",
       "                    <td>A04T.gdf</td>\n",
       "                </tr>\n",
       "                \n",
       "                \n",
       "                <tr>\n",
       "                    <th>Duration</th>\n",
       "                    <td>00:40:04 (HH:MM:SS)</td>\n",
       "                </tr>\n",
       "                \n",
       "            </table>\n",
       "            </details>"
      ],
      "text/plain": [
       "<RawGDF | A04T.gdf, 22 x 600915 (2403.7 s), ~22 kB, data not loaded>"
      ]
     },
     "execution_count": 3,
     "metadata": {},
     "output_type": "execute_result"
    }
   ],
   "source": [
    "raw=mne.io.read_raw_gdf('BCICIV_2a_gdf/A04T.gdf',\n",
    "                         eog=['EOG-left', 'EOG-central', 'EOG-right'])\n",
    "raw.drop_channels(['EOG-left', 'EOG-central', 'EOG-right'])"
   ]
  },
  {
   "cell_type": "code",
   "execution_count": 4,
   "id": "9cff3669-ff47-456f-bb6c-73334fd9e2b9",
   "metadata": {},
   "outputs": [
    {
     "data": {
      "text/plain": [
       "<Annotations | 610 segments: 1023 (26), 1072 (1), 32766 (7), 768 (288), ...>"
      ]
     },
     "execution_count": 4,
     "metadata": {},
     "output_type": "execute_result"
    }
   ],
   "source": [
    "raw.annotations"
   ]
  },
  {
   "cell_type": "code",
   "execution_count": 5,
   "id": "9db0ae73-52ce-471b-877e-9a4003c3ebcb",
   "metadata": {},
   "outputs": [
    {
     "name": "stdout",
     "output_type": "stream",
     "text": [
      "Used Annotations descriptions: ['1023', '1072', '32766', '768', '769', '770', '771', '772']\n"
     ]
    },
    {
     "data": {
      "text/plain": [
       "{'1023': 1,\n",
       " '1072': 2,\n",
       " '32766': 3,\n",
       " '768': 4,\n",
       " '769': 5,\n",
       " '770': 6,\n",
       " '771': 7,\n",
       " '772': 8}"
      ]
     },
     "execution_count": 5,
     "metadata": {},
     "output_type": "execute_result"
    }
   ],
   "source": [
    "events=mne.events_from_annotations(raw)\n",
    "events[1]"
   ]
  },
  {
   "cell_type": "code",
   "execution_count": 6,
   "id": "60e95b1a-ba3f-4e6b-99c0-3294d11805c0",
   "metadata": {},
   "outputs": [
    {
     "data": {
      "text/plain": [
       "array([[    0,     0,     3],\n",
       "       [    0,     0,     2],\n",
       "       [19905,     0,     3],\n",
       "       [20255,     0,     4],\n",
       "       [20755,     0,     8],\n",
       "       [22258,     0,     4],\n",
       "       [22758,     0,     8],\n",
       "       [24176,     0,     4],\n",
       "       [24676,     0,     5],\n",
       "       [26128,     0,     4],\n",
       "       [26628,     0,     8],\n",
       "       [28136,     0,     4],\n",
       "       [28636,     0,     5],\n",
       "       [30247,     0,     4],\n",
       "       [30747,     0,     5],\n",
       "       [32164,     0,     4],\n",
       "       [32664,     0,     8],\n",
       "       [34214,     0,     4],\n",
       "       [34714,     0,     8],\n",
       "       [36145,     0,     4]])"
      ]
     },
     "execution_count": 6,
     "metadata": {},
     "output_type": "execute_result"
    }
   ],
   "source": [
    "events[0][0:20]"
   ]
  },
  {
   "cell_type": "markdown",
   "id": "79334015-7e06-421e-92bd-4d69600570bd",
   "metadata": {},
   "source": [
    "From the paper\n",
    "'1023': 1 (Rejected trial),\n",
    "'1072': 2 (Eye movements),\n",
    "'276': 3 (eyes open)),\n",
    "'277': 4 (eyes closed),\n",
    "'32766':5 (Start of a new run),\n",
    "'768': 6 (Start of a trial),\n",
    "'769': 7 (class 1),\n",
    "'770': 8 (class 2),\n",
    "'771': 9 (class 3),\n",
    "'772': 10 (class 4)"
   ]
  },
  {
   "cell_type": "code",
   "execution_count": 27,
   "id": "7c085452-0605-4696-9d27-96193e6331ee",
   "metadata": {},
   "outputs": [],
   "source": [
    "event_dict={\n",
    " 'reject':1,\n",
    " 'eye move':2,\n",
    " 'eye open':3,\n",
    " 'eye close':4,\n",
    " 'new run':5,\n",
    " 'new trial':6,\n",
    " 'class 1':7,\n",
    " 'class 2':8,\n",
    "}"
   ]
  },
  {
   "cell_type": "code",
   "execution_count": 28,
   "id": "fbec7ae3-51df-46a5-b76b-39c242e9043c",
   "metadata": {},
   "outputs": [
    {
     "data": {
      "image/png": "[encoded data removed]",
      "text/plain": [
       "<Figure size 640x480 with 1 Axes>"
      ]
     },
     "metadata": {},
     "output_type": "display_data"
    }
   ],
   "source": [
    "#https://mne.tools/stable/auto_tutorials/intro/10_overview.html#sphx-glr-auto-tutorials-intro-10-overview-py\n",
    "fig = mne.viz.plot_events(events[0], event_id=event_dict, sfreq=raw.info['sfreq'],\n",
    "                          first_samp=raw.first_samp)"
   ]
  },
  {
   "cell_type": "code",
   "execution_count": 29,
   "id": "d9a61ae1-0c3d-4286-ba10-5c05f76e23d4",
   "metadata": {},
   "outputs": [
    {
     "name": "stdout",
     "output_type": "stream",
     "text": [
      "Not setting metadata\n",
      "171 matching events found\n",
      "Setting baseline interval to [-0.1, 0.0] s\n",
      "Applying baseline correction (mode: mean)\n",
      "0 projection items activated\n",
      "Loading data for 171 events and 201 original time points ...\n",
      "1 bad epochs dropped\n"
     ]
    }
   ],
   "source": [
    "epochs = mne.Epochs(raw, events[0], event_id=[7,8,2,1],tmin= -0.1, tmax=0.7, preload=True)"
   ]
  },
  {
   "cell_type": "code",
   "execution_count": 30,
   "id": "b03dbaae-bf11-43c3-af53-1bc34dfb2cf9",
   "metadata": {},
   "outputs": [
    {
     "name": "stderr",
     "output_type": "stream",
     "text": [
      "C:\\Users\\iemma\\AppData\\Local\\Temp\\ipykernel_30836\\854070821.py:1: FutureWarning: The current default of copy=False will change to copy=True in 1.7. Set the value of copy explicitly to avoid this warning\n",
      "  epochs.get_data().shape\n"
     ]
    },
    {
     "data": {
      "text/plain": [
       "(170, 22, 201)"
      ]
     },
     "execution_count": 30,
     "metadata": {},
     "output_type": "execute_result"
    }
   ],
   "source": [
    "epochs.get_data().shape\n"
   ]
  },
  {
   "cell_type": "code",
   "execution_count": 31,
   "id": "ef08bd9f-d4f0-4efd-8756-ba6c5334c79e",
   "metadata": {},
   "outputs": [
    {
     "data": {
      "text/plain": [
       "170"
      ]
     },
     "execution_count": 31,
     "metadata": {},
     "output_type": "execute_result"
    }
   ],
   "source": [
    "label=epochs.events[:,-1]\n",
    "len(label)"
   ]
  },
  {
   "cell_type": "code",
   "execution_count": 36,
   "id": "a9d4a92f-68bc-4532-bc4e-1c8a642ff195",
   "metadata": {},
   "outputs": [
    {
     "ename": "RuntimeError",
     "evalue": "epochs.average() can't run because this Epochs-object is empty. You might want to check Epochs.drop_log or Epochs.plot_drop_log() to see why epochs were dropped.",
     "output_type": "error",
     "traceback": [
      "\u001b[1;31m---------------------------------------------------------------------------\u001b[0m",
      "\u001b[1;31mRuntimeError\u001b[0m                              Traceback (most recent call last)",
      "Cell \u001b[1;32mIn[36], line 2\u001b[0m\n\u001b[0;32m      1\u001b[0m evoked_0 \u001b[38;5;241m=\u001b[39m epochs[\u001b[38;5;124m'\u001b[39m\u001b[38;5;124m1\u001b[39m\u001b[38;5;124m'\u001b[39m]\u001b[38;5;241m.\u001b[39maverage()\n\u001b[1;32m----> 2\u001b[0m evoked_1 \u001b[38;5;241m=\u001b[39m \u001b[43mepochs\u001b[49m\u001b[43m[\u001b[49m\u001b[38;5;124;43m'\u001b[39;49m\u001b[38;5;124;43m2\u001b[39;49m\u001b[38;5;124;43m'\u001b[39;49m\u001b[43m]\u001b[49m\u001b[38;5;241;43m.\u001b[39;49m\u001b[43maverage\u001b[49m\u001b[43m(\u001b[49m\u001b[43m)\u001b[49m\n\u001b[0;32m      3\u001b[0m evoked_2 \u001b[38;5;241m=\u001b[39m epochs[\u001b[38;5;124m'\u001b[39m\u001b[38;5;124m3\u001b[39m\u001b[38;5;124m'\u001b[39m]\u001b[38;5;241m.\u001b[39maverage()\n\u001b[0;32m      4\u001b[0m evoked_3 \u001b[38;5;241m=\u001b[39m epochs[\u001b[38;5;124m'\u001b[39m\u001b[38;5;124m4\u001b[39m\u001b[38;5;124m'\u001b[39m]\u001b[38;5;241m.\u001b[39maverage()\n",
      "File \u001b[1;32m~\\anaconda3\\Lib\\site-packages\\mne\\epochs.py:1116\u001b[0m, in \u001b[0;36mBaseEpochs.average\u001b[1;34m(self, picks, method, by_event_type)\u001b[0m\n\u001b[0;32m   1075\u001b[0m \u001b[38;5;129m@fill_doc\u001b[39m\n\u001b[0;32m   1076\u001b[0m \u001b[38;5;28;01mdef\u001b[39;00m \u001b[38;5;21maverage\u001b[39m(\u001b[38;5;28mself\u001b[39m, picks\u001b[38;5;241m=\u001b[39m\u001b[38;5;28;01mNone\u001b[39;00m, method\u001b[38;5;241m=\u001b[39m\u001b[38;5;124m\"\u001b[39m\u001b[38;5;124mmean\u001b[39m\u001b[38;5;124m\"\u001b[39m, by_event_type\u001b[38;5;241m=\u001b[39m\u001b[38;5;28;01mFalse\u001b[39;00m):\n\u001b[0;32m   1077\u001b[0m \u001b[38;5;250m    \u001b[39m\u001b[38;5;124;03m\"\"\"Compute an average over epochs.\u001b[39;00m\n\u001b[0;32m   1078\u001b[0m \n\u001b[0;32m   1079\u001b[0m \u001b[38;5;124;03m    Parameters\u001b[39;00m\n\u001b[1;32m   (...)\u001b[0m\n\u001b[0;32m   1114\u001b[0m \u001b[38;5;124;03m    This would compute the trimmed mean.\u001b[39;00m\n\u001b[0;32m   1115\u001b[0m \u001b[38;5;124;03m    \"\"\"\u001b[39;00m\n\u001b[1;32m-> 1116\u001b[0m     \u001b[38;5;28;43mself\u001b[39;49m\u001b[38;5;241;43m.\u001b[39;49m\u001b[43m_handle_empty\u001b[49m\u001b[43m(\u001b[49m\u001b[38;5;124;43m\"\u001b[39;49m\u001b[38;5;124;43mraise\u001b[39;49m\u001b[38;5;124;43m\"\u001b[39;49m\u001b[43m,\u001b[49m\u001b[43m \u001b[49m\u001b[38;5;124;43m\"\u001b[39;49m\u001b[38;5;124;43maverage\u001b[39;49m\u001b[38;5;124;43m\"\u001b[39;49m\u001b[43m)\u001b[49m\n\u001b[0;32m   1117\u001b[0m     \u001b[38;5;28;01mif\u001b[39;00m by_event_type:\n\u001b[0;32m   1118\u001b[0m         evokeds \u001b[38;5;241m=\u001b[39m \u001b[38;5;28mlist\u001b[39m()\n",
      "File \u001b[1;32m~\\anaconda3\\Lib\\site-packages\\mne\\epochs.py:1600\u001b[0m, in \u001b[0;36mBaseEpochs._handle_empty\u001b[1;34m(self, on_empty, meth)\u001b[0m\n\u001b[0;32m   1594\u001b[0m \u001b[38;5;28;01mif\u001b[39;00m \u001b[38;5;28mlen\u001b[39m(\u001b[38;5;28mself\u001b[39m\u001b[38;5;241m.\u001b[39mevents) \u001b[38;5;241m==\u001b[39m \u001b[38;5;241m0\u001b[39m:\n\u001b[0;32m   1595\u001b[0m     msg \u001b[38;5;241m=\u001b[39m (\n\u001b[0;32m   1596\u001b[0m         \u001b[38;5;124mf\u001b[39m\u001b[38;5;124m\"\u001b[39m\u001b[38;5;124mepochs.\u001b[39m\u001b[38;5;132;01m{\u001b[39;00mmeth\u001b[38;5;132;01m}\u001b[39;00m\u001b[38;5;124m() can\u001b[39m\u001b[38;5;124m'\u001b[39m\u001b[38;5;124mt run because this Epochs-object is empty. \u001b[39m\u001b[38;5;124m\"\u001b[39m\n\u001b[0;32m   1597\u001b[0m         \u001b[38;5;124mf\u001b[39m\u001b[38;5;124m\"\u001b[39m\u001b[38;5;124mYou might want to check Epochs.drop_log or Epochs.plot_drop_log()\u001b[39m\u001b[38;5;124m\"\u001b[39m\n\u001b[0;32m   1598\u001b[0m         \u001b[38;5;124mf\u001b[39m\u001b[38;5;124m\"\u001b[39m\u001b[38;5;124m to see why epochs were dropped.\u001b[39m\u001b[38;5;124m\"\u001b[39m\n\u001b[0;32m   1599\u001b[0m     )\n\u001b[1;32m-> 1600\u001b[0m     \u001b[43m_on_missing\u001b[49m\u001b[43m(\u001b[49m\u001b[43mon_empty\u001b[49m\u001b[43m,\u001b[49m\u001b[43m \u001b[49m\u001b[43mmsg\u001b[49m\u001b[43m,\u001b[49m\u001b[43m \u001b[49m\u001b[43merror_klass\u001b[49m\u001b[38;5;241;43m=\u001b[39;49m\u001b[38;5;167;43;01mRuntimeError\u001b[39;49;00m\u001b[43m)\u001b[49m\n",
      "File \u001b[1;32m~\\anaconda3\\Lib\\site-packages\\mne\\utils\\check.py:1190\u001b[0m, in \u001b[0;36m_on_missing\u001b[1;34m(on_missing, msg, name, error_klass)\u001b[0m\n\u001b[0;32m   1188\u001b[0m on_missing \u001b[38;5;241m=\u001b[39m \u001b[38;5;124m\"\u001b[39m\u001b[38;5;124mwarn\u001b[39m\u001b[38;5;124m\"\u001b[39m \u001b[38;5;28;01mif\u001b[39;00m on_missing \u001b[38;5;241m==\u001b[39m \u001b[38;5;124m\"\u001b[39m\u001b[38;5;124mwarning\u001b[39m\u001b[38;5;124m\"\u001b[39m \u001b[38;5;28;01melse\u001b[39;00m on_missing\n\u001b[0;32m   1189\u001b[0m \u001b[38;5;28;01mif\u001b[39;00m on_missing \u001b[38;5;241m==\u001b[39m \u001b[38;5;124m\"\u001b[39m\u001b[38;5;124mraise\u001b[39m\u001b[38;5;124m\"\u001b[39m:\n\u001b[1;32m-> 1190\u001b[0m     \u001b[38;5;28;01mraise\u001b[39;00m error_klass(msg)\n\u001b[0;32m   1191\u001b[0m \u001b[38;5;28;01melif\u001b[39;00m on_missing \u001b[38;5;241m==\u001b[39m \u001b[38;5;124m\"\u001b[39m\u001b[38;5;124mwarn\u001b[39m\u001b[38;5;124m\"\u001b[39m:\n\u001b[0;32m   1192\u001b[0m     warn(msg)\n",
      "\u001b[1;31mRuntimeError\u001b[0m: epochs.average() can't run because this Epochs-object is empty. You might want to check Epochs.drop_log or Epochs.plot_drop_log() to see why epochs were dropped."
     ]
    }
   ],
   "source": [
    "evoked_0 = epochs['1'].average()\n",
    "evoked_1 = epochs['2'].average()\n",
    "evoked_2 = epochs['3'].average()\n",
    "evoked_3 = epochs['4'].average()"
   ]
  },
  {
   "cell_type": "code",
   "execution_count": 35,
   "id": "969c161a-6b51-497b-9c35-c55674a37942",
   "metadata": {},
   "outputs": [
    {
     "ename": "NameError",
     "evalue": "name 'evoked_2' is not defined",
     "output_type": "error",
     "traceback": [
      "\u001b[1;31m---------------------------------------------------------------------------\u001b[0m",
      "\u001b[1;31mNameError\u001b[0m                                 Traceback (most recent call last)",
      "Cell \u001b[1;32mIn[35], line 2\u001b[0m\n\u001b[0;32m      1\u001b[0m \u001b[38;5;66;03m#left,right,foot,tongue\u001b[39;00m\n\u001b[1;32m----> 2\u001b[0m dicts\u001b[38;5;241m=\u001b[39m{\u001b[38;5;124m'\u001b[39m\u001b[38;5;124mclass0\u001b[39m\u001b[38;5;124m'\u001b[39m:evoked_0,\u001b[38;5;124m'\u001b[39m\u001b[38;5;124mclass1\u001b[39m\u001b[38;5;124m'\u001b[39m:evoked_1,\u001b[38;5;124m'\u001b[39m\u001b[38;5;124mclass2\u001b[39m\u001b[38;5;124m'\u001b[39m:\u001b[43mevoked_2\u001b[49m,\u001b[38;5;124m'\u001b[39m\u001b[38;5;124mclass3\u001b[39m\u001b[38;5;124m'\u001b[39m:evoked_3}\n\u001b[0;32m      3\u001b[0m mne\u001b[38;5;241m.\u001b[39mviz\u001b[38;5;241m.\u001b[39mplot_compare_evokeds(dicts)\n",
      "\u001b[1;31mNameError\u001b[0m: name 'evoked_2' is not defined"
     ]
    }
   ],
   "source": [
    "#left,right,foot,tongue\n",
    "dicts={'class0':evoked_0,'class1':evoked_1,'class2':evoked_2,'class3':evoked_3}\n",
    "mne.viz.plot_compare_evokeds(dicts)"
   ]
  },
  {
   "cell_type": "code",
   "execution_count": null,
   "id": "ba12e663-8840-479a-bf35-7391dac7250c",
   "metadata": {},
   "outputs": [],
   "source": []
  }
 ],
 "metadata": {
  "kernelspec": {
   "display_name": "Python 3 (ipykernel)",
   "language": "python",
   "name": "python3"
  },
  "language_info": {
   "codemirror_mode": {
    "name": "ipython",
    "version": 3
   },
   "file_extension": ".py",
   "mimetype": "text/x-python",
   "name": "python",
   "nbconvert_exporter": "python",
   "pygments_lexer": "ipython3",
   "version": "3.12.4"
  }
 },
 "nbformat": 4,
 "nbformat_minor": 5
}
