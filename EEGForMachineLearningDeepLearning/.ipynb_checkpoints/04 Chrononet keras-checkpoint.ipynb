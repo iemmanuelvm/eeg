{
 "cells": [
  {
   "cell_type": "code",
   "execution_count": 1,
   "id": "47f05679-088c-4642-8859-59bf966dc012",
   "metadata": {},
   "outputs": [],
   "source": [
    "from glob import glob\n",
    "import scipy.io\n",
    "import torch.nn as nn\n",
    "import torch\n",
    "import numpy as np\n",
    "import mne"
   ]
  },
  {
   "cell_type": "code",
   "execution_count": 2,
   "id": "2dd6077d-9a37-4a86-8a73-82bb7e62e189",
   "metadata": {},
   "outputs": [],
   "source": [
    "IDD_data_path='./data/Data/CleanData/CleanData_TDC/Rest'\n",
    "TDC_data_path='./data/Data/CleanData/CleanData_IDD/Rest'"
   ]
  },
  {
   "cell_type": "code",
   "execution_count": 3,
   "id": "5e28fb3a-64df-4aca-a619-c916d5b52c95",
   "metadata": {},
   "outputs": [],
   "source": [
    "def convertmat2mne(data):\n",
    "  ch_names = ['AF3', 'F7', 'F3', 'FC5', 'T7', 'P7', 'O1', 'O2', 'P8', 'T8', 'FC6', 'F4', 'F8', 'AF4']\n",
    "  ch_types = ['eeg'] * 14\n",
    "  sampling_freq=128\n",
    "  info = mne.create_info(ch_names, ch_types=ch_types, sfreq=sampling_freq)\n",
    "  info.set_montage('standard_1020')\n",
    "  data=mne.io.RawArray(data, info)\n",
    "  data.set_eeg_reference()\n",
    "  data.filter(l_freq=1,h_freq=30)\n",
    "  epochs=mne.make_fixed_length_epochs(data,duration=4,overlap=0)\n",
    "  return epochs.get_data()"
   ]
  },
  {
   "cell_type": "code",
   "execution_count": 4,
   "id": "d71dd416-e6e1-4045-82f7-81058cdf2f07",
   "metadata": {},
   "outputs": [],
   "source": [
    "%%capture\n",
    "idd_subject=[]\n",
    "for idd in glob(IDD_data_path+'/*.mat'):\n",
    "  data=scipy.io.loadmat(idd)['clean_data']\n",
    "  data=convertmat2mne(data)\n",
    "  idd_subject.append(data)"
   ]
  },
  {
   "cell_type": "code",
   "execution_count": 5,
   "id": "d3fc8357-383e-4680-a2b3-c9ace7c9658f",
   "metadata": {},
   "outputs": [],
   "source": [
    "%%capture\n",
    "tdc_subject=[]\n",
    "for tdc in glob(TDC_data_path+'/*.mat'):\n",
    "  data=scipy.io.loadmat(tdc)['clean_data']\n",
    "  data=convertmat2mne(data)\n",
    "  tdc_subject.append(data)"
   ]
  },
  {
   "cell_type": "code",
   "execution_count": 6,
   "id": "bec797a6-6a44-4d60-8e9c-59c7a8126ff9",
   "metadata": {},
   "outputs": [
    {
     "name": "stdout",
     "output_type": "stream",
     "text": [
      "7 7\n"
     ]
    }
   ],
   "source": [
    "control_epochs_labels=[len(i)*[0] for i in tdc_subject]\n",
    "patients_epochs_labels=[len(i)*[1] for i in idd_subject]\n",
    "print(len(control_epochs_labels),len(patients_epochs_labels))"
   ]
  },
  {
   "cell_type": "code",
   "execution_count": 7,
   "id": "b778ffe6-28d5-4ae0-82c1-2c925eb1657e",
   "metadata": {},
   "outputs": [
    {
     "name": "stdout",
     "output_type": "stream",
     "text": [
      "14 14 14\n"
     ]
    }
   ],
   "source": [
    "data_list=tdc_subject+idd_subject\n",
    "label_list=control_epochs_labels+patients_epochs_labels\n",
    "groups_list=[[i]*len(j) for i, j in enumerate(data_list)]\n",
    "print(len(data_list),len(label_list),len(groups_list))"
   ]
  },
  {
   "cell_type": "code",
   "execution_count": 8,
   "id": "a8be2716-89a1-452f-8c8d-cec603a8611f",
   "metadata": {},
   "outputs": [],
   "source": [
    "from sklearn.model_selection import GroupKFold,LeaveOneGroupOut\n",
    "from sklearn.preprocessing import StandardScaler\n",
    "gkf=GroupKFold()\n",
    "from sklearn.base import TransformerMixin,BaseEstimator\n",
    "from sklearn.preprocessing import StandardScaler\n",
    "#https://stackoverflow.com/questions/50125844/how-to-standard-scale-a-3d-matrix\n",
    "class StandardScaler3D(BaseEstimator,TransformerMixin):\n",
    "    #batch, sequence, channels\n",
    "    def __init__(self):\n",
    "        self.scaler = StandardScaler()\n",
    "\n",
    "    def fit(self,X,y=None):\n",
    "        self.scaler.fit(X.reshape(-1, X.shape[2]))\n",
    "        return self\n",
    "\n",
    "    def transform(self,X):\n",
    "        return self.scaler.transform(X.reshape( -1,X.shape[2])).reshape(X.shape)"
   ]
  },
  {
   "cell_type": "code",
   "execution_count": 9,
   "id": "a9b7208a-1024-495d-83ef-3b1febb480e7",
   "metadata": {},
   "outputs": [
    {
     "name": "stdout",
     "output_type": "stream",
     "text": [
      "(420, 512, 14) (420,) (420,)\n"
     ]
    }
   ],
   "source": [
    "import numpy as np\n",
    "data_array=np.concatenate(data_list)\n",
    "label_array=np.concatenate(label_list)\n",
    "group_array=np.concatenate(groups_list)\n",
    "data_array=np.moveaxis(data_array,1,2)\n",
    "\n",
    "print(data_array.shape,label_array.shape,group_array.shape)"
   ]
  },
  {
   "cell_type": "code",
   "execution_count": 10,
   "id": "ab009c31-8c36-4973-84d9-69334d3e7bf7",
   "metadata": {},
   "outputs": [],
   "source": [
    "accuracy=[]\n",
    "for train_index, val_index in gkf.split(data_array, label_array, groups=group_array):\n",
    "    train_features,train_labels=data_array[train_index],label_array[train_index]\n",
    "    val_features,val_labels=data_array[val_index],label_array[val_index]\n",
    "    scaler=StandardScaler3D()\n",
    "    train_features=scaler.fit_transform(train_features)\n",
    "    val_features=scaler.transform(val_features)\n"
   ]
  },
  {
   "cell_type": "code",
   "execution_count": 11,
   "id": "5d4e2192-7299-4b1d-9b95-48aff569698d",
   "metadata": {},
   "outputs": [
    {
     "data": {
      "text/plain": [
       "(360, 512, 14)"
      ]
     },
     "execution_count": 11,
     "metadata": {},
     "output_type": "execute_result"
    }
   ],
   "source": [
    "train_features.shape\n"
   ]
  },
  {
   "cell_type": "code",
   "execution_count": 12,
   "id": "3d813bc7-5398-4f80-b201-847be5699a77",
   "metadata": {},
   "outputs": [],
   "source": [
    "from tensorflow.keras.layers import Input,Dense,concatenate,Flatten,GRU,Conv1D\n",
    "from tensorflow.keras.models import Model"
   ]
  },
  {
   "cell_type": "code",
   "execution_count": 13,
   "id": "0ee16300-2711-48df-b58c-c3c020be3f41",
   "metadata": {},
   "outputs": [],
   "source": [
    "def block(input):\n",
    "  conv1 = Conv1D(32, 2, strides=2,activation='relu',padding=\"same\")(input)\n",
    "  conv2 = Conv1D(32, 4, strides=2,activation='relu',padding=\"causal\")(input)\n",
    "  conv3 = Conv1D(32, 8, strides=2,activation='relu',padding=\"causal\")(input)\n",
    "  x = concatenate([conv1,conv2,conv3],axis=2)\n",
    "  return x"
   ]
  },
  {
   "cell_type": "code",
   "execution_count": 14,
   "id": "40f89ec2-3631-4535-82e2-7b0678e73003",
   "metadata": {},
   "outputs": [],
   "source": [
    "input= Input(shape=(512,14))\n",
    "block1=block(input)\n",
    "block2=block(block1)\n",
    "block3=block(block2)"
   ]
  },
  {
   "cell_type": "code",
   "execution_count": 15,
   "id": "3581e24f-6dcc-4e20-9015-56d27fa64c7c",
   "metadata": {},
   "outputs": [],
   "source": [
    "gru_out1 = GRU(32,activation='tanh',return_sequences=True)(block3)\n",
    "gru_out2 = GRU(32,activation='tanh',return_sequences=True)(gru_out1)\n",
    "gru_out = concatenate([gru_out1,gru_out2],axis=2)\n",
    "gru_out3 = GRU(32,activation='tanh',return_sequences=True)(gru_out)\n",
    "gru_out = concatenate([gru_out1,gru_out2,gru_out3])\n",
    "gru_out4 = GRU(32,activation='tanh')(gru_out)"
   ]
  },
  {
   "cell_type": "code",
   "execution_count": 16,
   "id": "9d4fbf0a-aad3-47d5-865b-cd759a79f2b8",
   "metadata": {},
   "outputs": [],
   "source": [
    "predictions = Dense(1,activation='sigmoid')(gru_out4)\n",
    "model = Model(inputs=input, outputs=predictions)"
   ]
  },
  {
   "cell_type": "code",
   "execution_count": 17,
   "id": "bf6e5de8-aacf-4d11-a651-c7710eb433ca",
   "metadata": {},
   "outputs": [],
   "source": [
    "model.compile(optimizer = 'adam', loss = 'binary_crossentropy', metrics=['accuracy'])"
   ]
  },
  {
   "cell_type": "code",
   "execution_count": 18,
   "id": "58e3da2f-71e9-49b1-953f-bbf2c2810dc3",
   "metadata": {},
   "outputs": [
    {
     "name": "stdout",
     "output_type": "stream",
     "text": [
      "Epoch 1/10\n",
      "\u001b[1m3/3\u001b[0m \u001b[32m━━━━━━━━━━━━━━━━━━━━\u001b[0m\u001b[37m\u001b[0m \u001b[1m8s\u001b[0m 468ms/step - accuracy: 0.4921 - loss: 0.6981 - val_accuracy: 0.6500 - val_loss: 0.6250\n",
      "Epoch 2/10\n",
      "\u001b[1m3/3\u001b[0m \u001b[32m━━━━━━━━━━━━━━━━━━━━\u001b[0m\u001b[37m\u001b[0m \u001b[1m0s\u001b[0m 145ms/step - accuracy: 0.7262 - loss: 0.6364 - val_accuracy: 0.9500 - val_loss: 0.5230\n",
      "Epoch 3/10\n",
      "\u001b[1m3/3\u001b[0m \u001b[32m━━━━━━━━━━━━━━━━━━━━\u001b[0m\u001b[37m\u001b[0m \u001b[1m0s\u001b[0m 133ms/step - accuracy: 0.9411 - loss: 0.5154 - val_accuracy: 1.0000 - val_loss: 0.2950\n",
      "Epoch 4/10\n",
      "\u001b[1m3/3\u001b[0m \u001b[32m━━━━━━━━━━━━━━━━━━━━\u001b[0m\u001b[37m\u001b[0m \u001b[1m0s\u001b[0m 132ms/step - accuracy: 0.9890 - loss: 0.3112 - val_accuracy: 1.0000 - val_loss: 0.1257\n",
      "Epoch 5/10\n",
      "\u001b[1m3/3\u001b[0m \u001b[32m━━━━━━━━━━━━━━━━━━━━\u001b[0m\u001b[37m\u001b[0m \u001b[1m0s\u001b[0m 133ms/step - accuracy: 0.9929 - loss: 0.1320 - val_accuracy: 1.0000 - val_loss: 0.0472\n",
      "Epoch 6/10\n",
      "\u001b[1m3/3\u001b[0m \u001b[32m━━━━━━━━━━━━━━━━━━━━\u001b[0m\u001b[37m\u001b[0m \u001b[1m0s\u001b[0m 136ms/step - accuracy: 1.0000 - loss: 0.0434 - val_accuracy: 1.0000 - val_loss: 0.0180\n",
      "Epoch 7/10\n",
      "\u001b[1m3/3\u001b[0m \u001b[32m━━━━━━━━━━━━━━━━━━━━\u001b[0m\u001b[37m\u001b[0m \u001b[1m0s\u001b[0m 144ms/step - accuracy: 1.0000 - loss: 0.0113 - val_accuracy: 1.0000 - val_loss: 0.0060\n",
      "Epoch 8/10\n",
      "\u001b[1m3/3\u001b[0m \u001b[32m━━━━━━━━━━━━━━━━━━━━\u001b[0m\u001b[37m\u001b[0m \u001b[1m0s\u001b[0m 136ms/step - accuracy: 1.0000 - loss: 0.0066 - val_accuracy: 1.0000 - val_loss: 0.0043\n",
      "Epoch 9/10\n",
      "\u001b[1m3/3\u001b[0m \u001b[32m━━━━━━━━━━━━━━━━━━━━\u001b[0m\u001b[37m\u001b[0m \u001b[1m0s\u001b[0m 144ms/step - accuracy: 1.0000 - loss: 0.0035 - val_accuracy: 1.0000 - val_loss: 0.0039\n",
      "Epoch 10/10\n",
      "\u001b[1m3/3\u001b[0m \u001b[32m━━━━━━━━━━━━━━━━━━━━\u001b[0m\u001b[37m\u001b[0m \u001b[1m0s\u001b[0m 132ms/step - accuracy: 1.0000 - loss: 0.0027 - val_accuracy: 1.0000 - val_loss: 0.0042\n"
     ]
    },
    {
     "data": {
      "text/plain": [
       "<keras.src.callbacks.history.History at 0x2280b4d95e0>"
      ]
     },
     "execution_count": 18,
     "metadata": {},
     "output_type": "execute_result"
    }
   ],
   "source": [
    "model.fit(train_features,train_labels,epochs=10,batch_size=128,validation_data=(val_features,val_labels))"
   ]
  },
  {
   "cell_type": "code",
   "execution_count": null,
   "id": "3de9b854-d0b4-439f-82c0-59a436c75ff9",
   "metadata": {},
   "outputs": [],
   "source": []
  }
 ],
 "metadata": {
  "kernelspec": {
   "display_name": "Python 3 (ipykernel)",
   "language": "python",
   "name": "python3"
  },
  "language_info": {
   "codemirror_mode": {
    "name": "ipython",
    "version": 3
   },
   "file_extension": ".py",
   "mimetype": "text/x-python",
   "name": "python",
   "nbconvert_exporter": "python",
   "pygments_lexer": "ipython3",
   "version": "3.12.4"
  }
 },
 "nbformat": 4,
 "nbformat_minor": 5
}
