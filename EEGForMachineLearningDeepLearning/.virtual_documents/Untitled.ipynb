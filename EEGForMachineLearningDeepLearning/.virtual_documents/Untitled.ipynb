import pandas as pd
import numpy as np
from matplotlib import pyplot as plt


meta_df=pd.read_csv('https://zenodo.org/record/1252141/files/metadata_guineabissau.csv')
meta_df.head()


#now i need to seprate Epilepsy vs Control subjects
EP_sub=meta_df['subject.id'][meta_df['Group']=='Epilepsy']
CT_sub=meta_df['subject.id'][meta_df['Group']=='Control']


#read csv files
Epilepsy=[pd.read_csv('EEGs_Guinea-Bissau/signal-{}.csv.gz'.format(i), compression='gzip') for i in  EP_sub]
Control=[pd.read_csv('EEGs_Guinea-Bissau/signal-{}.csv.gz'.format(i), compression='gzip') for i in  CT_sub]


Epilepsy[0].head()


#remove non eeg channels
Epilepsy=[i.iloc[:,1:15] for i in  Epilepsy]
Control=[i.iloc[:,1:15] for i in  Control]


import mne
def convertDF2MNE(sub):
    info = mne.create_info(list(sub.columns), ch_types=['eeg'] * len(sub.columns), sfreq=128)
    info.set_montage('standard_1020')
    data=mne.io.RawArray(sub.T, info)
    data.set_eeg_reference()
    data.filter(l_freq=0.1,h_freq=45)
    epochs=mne.make_fixed_length_epochs(data,duration=5,overlap=1)
    epochs=epochs.drop_bad()
    
    return epochs


%%capture
#Convert each dataframe to mne object
Epilepsy=[convertDF2MNE(i) for i in  Epilepsy]
Control=[convertDF2MNE(i) for i in  Control]


%%capture
#concatenate the epochs
Epilepsy_epochs=mne.concatenate_epochs(Epilepsy)
Control_epochs=mne.concatenate_epochs(Control)


Epilepsy_group=np.concatenate([[i]*len(Epilepsy[i]) for i in range(len(Epilepsy))])#create a list of list where each sub list corresponds to subject_no
Control_group=np.concatenate([[i]*len(Control[i]) for i in range(len(Control))])#create a list of list where each sub list corresponds to subject_no

Epilepsy_label=np.concatenate([[0]*len(Epilepsy[i]) for i in range(len(Epilepsy))])
Control_label=np.concatenate([[1]*len(Control[i]) for i in range(len(Control))])


Epilepsy_group.shape,Control_group.shape,Epilepsy_label.shape,Control_label.shape



#combine data
data=mne.concatenate_epochs([Epilepsy_epochs,Control_epochs])
group=np.concatenate((Epilepsy_group,Control_group))
label=np.concatenate((Epilepsy_label,Control_label))
print(len(data),len(group),len(label))


import numpy as np
from mne.time_frequency import psd_array_welch

def eeg_power_band(epochs):
    """EEG relative power band feature extraction.

    This function takes an ``mne.Epochs`` object and creates EEG features based
    on relative power in specific frequency bands that are compatible with
    scikit-learn.

    Parameters
    ----------
    epochs : mne.Epochs
        The EEG epochs data.

    Returns
    -------
    X : numpy array of shape [n_samples, n_features]
        Transformed data with relative power in each frequency band.
    """
    # Define specific frequency bands
    FREQ_BANDS = {
        "delta": [0.5, 4.5],
        "theta": [4.5, 8.5],
        "alpha": [8.5, 11.5],
        "sigma": [11.5, 15.5],
        "beta": [15.5, 30],
        "gamma": [30, 45],
    }

    # Convert the `epochs` object to a NumPy array and get the sampling frequency
    data = epochs.get_data()  # Shape: (n_epochs, n_channels, n_times)
    sfreq = epochs.info['sfreq']  # Sampling frequency in Hz

    # Compute the PSD using the Welch method for all epochs
    psds, freqs = psd_array_welch(data, sfreq=sfreq, fmin=0.5, fmax=45, n_per_seg=int(sfreq * 2))

    # Normalize the PSDs for each epoch and channel
    psds /= np.sum(psds, axis=-1, keepdims=True)

    # Extract features for each frequency band
    X = []  # Initialize a list to store the features
    for fmin, fmax in FREQ_BANDS.values():
        # Compute the mean PSD in each frequency band for each epoch and channel
        psds_band = psds[:, :, (freqs >= fmin) & (freqs < fmax)].mean(axis=-1)
        X.append(psds_band)

    # Concatenate the mean PSDs for each band into a single feature vector
    return np.concatenate(X, axis=1)  # Shape: (n_epochs, n_features)



from sklearn.ensemble import RandomForestClassifier
from sklearn.model_selection import cross_val_score


%%capture
features=[]
for d in range(len(data)):#get features from each epoch and save in a list
  features.append(eeg_power_band(data[d]))


#convert list to array
features=np.concatenate(features)
features.shape


#do 5 fold cross validation
clf=RandomForestClassifier()
accuracies=cross_val_score(clf, features,label,groups=group,cv=5)
print('Five fold accuracies',accuracies)
print('Average accuracy',np.mean(accuracies))



