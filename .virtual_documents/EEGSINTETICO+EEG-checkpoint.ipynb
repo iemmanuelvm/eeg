import numpy as np
from scipy.interpolate import interp1d
import matplotlib.pyplot as plt
import mne
%matplotlib qt

EEG = {
    'srate': 512,  # Frecuencia de muestreo
    'nbchan': 16,  # Número de canales
    'times': None, # Definir más adelante
    'pnts': None,  # Definir más adelante
    'trials': 100, # Número de pruebas
    'data': None   # Se inicializará más adelante
}
lf = {
    'Gain': np.random.rand(16, 1, 512)  # Suponiendo que Gain sea 3D (ejemplo)
}

diploc1 = 109
diploc2 = 409

EEG['times'] = np.arange(-EEG['srate'], 2 * EEG['srate'] + 1) / EEG['srate']
EEG['pnts'] = EEG['times'].size
EEG['data'] = np.zeros((EEG['nbchan'], EEG['pnts'], EEG['trials']))

gaus1 = np.exp(-4 * np.log(2) * (EEG['times'] - 0.8) ** 2)
gaus2 = np.exp(-4 * np.log(2) * (EEG['times'] - 0.9) ** 2 / 0.8)

for triali in range(EEG['trials']):
    
    dipact = 0.02 * np.random.randn(lf['Gain'].shape[2], EEG['pnts'])
    
    freqmod = 5 + 5 * interp1d(np.random.rand(EEG['pnts']), np.linspace(1, 10, EEG['pnts']), fill_value="extrapolate")(np.arange(EEG['pnts']))
    IFsignal = np.sin(2 * np.pi * ((EEG['times'] + np.cumsum(freqmod)) / EEG['srate']))
    dipact[diploc1, :] = IFsignal * gaus1

    freqmod = 7 + 5 * interp1d(np.random.rand(EEG['pnts']), np.linspace(1, 10, EEG['pnts']), fill_value="extrapolate")(np.arange(EEG['pnts']))
    IFsignal = np.sin(2 * np.pi * ((EEG['times'] + np.cumsum(freqmod)) / EEG['srate']))
    dipact[diploc2, :] = IFsignal * gaus2

    EEG['data'][:, :, triali] = np.dot(lf['Gain'][:, 0, :], dipact)
    
montage = mne.channels.make_standard_montage('standard_1020')
info = mne.create_info(ch_names=montage.ch_names[:EEG['nbchan']], sfreq=EEG['srate'], ch_types='eeg')

raw = mne.io.RawArray(EEG['data'][:, :, 0], info)

raw.set_montage(montage)

raw.plot(scalings=dict(eeg=20e-1), title='Simulated EEG data with EOG artifacts', n_channels=10)

plt.show()


import numpy as np
import matplotlib.pyplot as plt

file_location = 'data/' 
EOG_all = np.load(file_location + 'EOG_all_epochs.npy')
EMG_all = np.load(file_location + 'EMG_all_epochs.npy')

eog_signal = EOG_all[0]
emg_signal = EMG_all[0]

plt.figure(figsize=(12, 6))

plt.subplot(2, 1, 1)
plt.plot(eog_signal)
plt.title('EOG Signal - Epoch 1')
plt.xlabel('Time (samples)')
plt.ylabel('Amplitude')

plt.subplot(2, 1, 2)
plt.plot(emg_signal)
plt.title('EMG Signal - Epoch 1')
plt.xlabel('Time (samples)')
plt.ylabel('Amplitude')

plt.tight_layout()
plt.show()



import numpy as np
import mne

file_location = 'data/' 
EOG_all = np.load('EOG_all_epochs.npy')
EMG_all = np.load('EMG_all_epochs.npy')

print('Shape of EOG:', EOG_all.shape)
print('Shape of EMG:', EMG_all.shape)

info_eog = mne.create_info(ch_names=['EOG'], sfreq=512, ch_types=['eog'])
info_emg = mne.create_info(ch_names=['EMG'], sfreq=512, ch_types=['emg'])

eog_signals = EOG_all.flatten()[np.newaxis, :]
emg_signals = EMG_all.flatten()[np.newaxis, :]

raw_eog = mne.io.RawArray(eog_signals, info_eog)
raw_emg = mne.io.RawArray(emg_signals, info_emg)

raw_eog.plot(n_channels=1, scalings=dict(eog=1000), title='EOG Signals', show=True, block=True)

raw_emg.plot(n_channels=1, scalings=dict(emg=100000), title='EMG Signals', show=True, block=True)





















import numpy as np
from scipy.interpolate import interp1d
from scipy.signal import resample
import matplotlib.pyplot as plt
import mne
%matplotlib qt

EEG = {
    'srate': 512,        # Frecuencia de muestreo en Hz
    'nbchan': 16,        # Número de canales EEG
    'times': None,       # Vector de tiempo (se definirá más adelante)
    'pnts': None,        # Número de puntos en el tiempo (se definirá más adelante)
    'trials': 100,       # Número de pruebas (trials)
    'data': None         # Datos EEG (se inicializará más adelante)
}

lf = {
    'Gain': np.random.rand(EEG['nbchan'], 1, 512)  # Ganancia aleatoria como ejemplo
}

diploc1 = 109
diploc2 = 409

EEG['times'] = np.arange(-EEG['srate'], 2 * EEG['srate'] + 1) / EEG['srate']  # -1s a ~2s
EEG['pnts'] = EEG['times'].size  # 1537 puntos
EEG['data'] = np.zeros((EEG['nbchan'], EEG['pnts'], EEG['trials']))

# Generar actividad dipolo -> EEG
gaus1 = np.exp(-4 * np.log(2) * (EEG['times'] - 0.8) ** 2)
gaus2 = np.exp(-4 * np.log(2) * (EEG['times'] - 0.9) ** 2 / 0.8)

# Loop sobre las pruebas (trials) para generar datos EEG simulados
for triali in range(EEG['trials']):
    
    dipact = 0.02 * np.random.randn(lf['Gain'].shape[2], EEG['pnts'])
    
    # Dipolo 1
    freqmod = 5 + 5 * interp1d(np.random.rand(EEG['pnts']), 
                               np.linspace(1, 10, EEG['pnts']), 
                               fill_value="extrapolate")(np.arange(EEG['pnts']))
    IFsignal = np.sin(2 * np.pi * ((EEG['times'] + np.cumsum(freqmod)) / EEG['srate']))
    dipact[diploc1, :] = IFsignal * gaus1

    # Dipolo 2
    freqmod = 7 + 5 * interp1d(np.random.rand(EEG['pnts']), 
                               np.linspace(1, 10, EEG['pnts']), 
                               fill_value="extrapolate")(np.arange(EEG['pnts']))
    IFsignal = np.sin(2 * np.pi * ((EEG['times'] + np.cumsum(freqmod)) / EEG['srate']))
    dipact[diploc2, :] = IFsignal * gaus2

    EEG['data'][:, :, triali] = np.dot(lf['Gain'][:, 0, :], dipact)

# ================================
# 2. Carga y Procesamiento de Datos EMG
# ================================

file_location = 'data/' 
EMG_all = np.load(file_location + 'EOG_all_epochs.npy')
print('Shape of EMG:', EMG_all.shape)

if EMG_all.shape[0] < EEG['trials']:
    raise ValueError('EMG tiene menos trials que EEG.')
if EMG_all.shape[1] < EEG['pnts']:
    print('EMG tiene menos puntos que EEG. Procediendo a resamplear.')

# ================================
# 3. Selección y Resampleo de Datos EMG
# ================================

# Seleccionar 100 trials de EMG para coincidir con EEG
# Puedes seleccionar los primeros 100 o elegir aleatoriamente
# Aquí seleccionamos los primeros 100
EMG_selected = EMG_all[:EEG['trials'], :]  # Forma: (100, 512)

# Resamplear EMG de 512 a 1537 puntos por trial para que coincida con EEG
resampled_pnts = EEG['pnts']
EMG_resampled = np.zeros((EEG['trials'], resampled_pnts))

for triali in range(EEG['trials']):
    EMG_resampled[triali, :] = resample(EMG_selected[triali, :], resampled_pnts)

print('Shape of EMG_resampled:', EMG_resampled.shape)

# ================================
# 4. Integración de EMG en EEG
# ================================

emg_scale = 1e-6

artifact_window_size = 100
i_initial = 200
i_final = i_initial + artifact_window_size

if i_final > EEG['pnts']:
    raise ValueError('La ventana de artefacto excede el número de puntos en EEG.')

for triali in range(EEG['trials']):
    emg_section = EMG_resampled[triali, i_initial:i_final]
    
    if emg_section.size != artifact_window_size:
        raise ValueError(f'La sección de EMG en trial {triali} no tiene {artifact_window_size} muestras.')
    
    emg_scaled = emg_section * emg_scale
    
    EEG['data'][:, i_initial:i_final, triali] += emg_scaled  # Broadcasting automático

# ================================
# 5. Creación del Objeto RawArray de MNE y Visualización con Anotación
# ================================

montage = mne.channels.make_standard_montage('standard_1020')
info = mne.create_info(ch_names=montage.ch_names[:EEG['nbchan']], 
                       sfreq=EEG['srate'], 
                       ch_types='eeg')

raw_eeg = mne.io.RawArray(EEG['data'][:, :, 0], info)
raw_eeg.set_montage(montage)

# ================================
# 6. Añadir Anotación del Artefacto EMG
# ================================

t_initial = i_initial / EEG['srate']
duration = artifact_window_size / EEG['srate'] 

annotations = mne.Annotations(onset=[t_initial], 
                              duration=[duration], 
                              description=['EMG Artifact'])

raw_eeg.set_annotations(annotations)

# ================================
# 7. Graficar los Datos EEG con Anotación del Artefacto EMG
# ================================

raw_eeg.plot(scalings=dict(eeg=20e-1), 
            title='Datos EEG Simulados con Artefactos EMG', 
            n_channels=EEG['nbchan'],
            show=True)




import numpy as np
from scipy.interpolate import interp1d
from scipy.signal import resample
import matplotlib.pyplot as plt
import mne
import math
from sklearn.model_selection import train_test_split

# ================================
# Definición de Funciones
# ================================

def get_rms(records):
    """Calcula el RMS de una señal."""
    return math.sqrt(sum([x ** 2 for x in records]) / len(records))

def random_signal(signal, combine_num):
    """Crea permutaciones aleatorias de la señal."""
    random_result = []

    for i in range(combine_num):
        random_num = np.random.permutation(signal.shape[0])
        shuffled_dataset = signal[random_num, :]
        shuffled_dataset = shuffled_dataset.reshape(signal.shape[0], signal.shape[1])
        random_result.append(shuffled_dataset)
    random_result = np.array(random_result)
    return random_result

def prepare_data(EEG_all, noise_all, combine_num, train_per, noise_type):
    """Prepara los datos combinando EEG y ruido con escalado según SNR."""
    # Implementación de prepare_data según lo proporcionado
    # Nota: Esta función no se utilizará directamente en la integración del artefacto EMG
    pass  # Implementa esta función según tus necesidades específicas

# ================================
# 1. Generación de Datos EEG Simulados
# ================================

EEG = {
    'srate': 512,        # Frecuencia de muestreo en Hz
    'nbchan': 16,        # Número de canales EEG
    'times': None,       # Vector de tiempo (se definirá más adelante)
    'pnts': None,        # Número de puntos en el tiempo (se definirá más adelante)
    'trials': 100,       # Número de pruebas (trials)
    'data': None         # Datos EEG (se inicializará más adelante)
}

lf = {
    'Gain': np.random.rand(EEG['nbchan'], 1, 512)  # Ganancia aleatoria como ejemplo
}

diploc1 = 109
diploc2 = 409

EEG['times'] = np.arange(-EEG['srate'], 2 * EEG['srate'] + 1) / EEG['srate']  # -1s a ~2s
EEG['pnts'] = EEG['times'].size  # 1537 puntos
EEG['data'] = np.zeros((EEG['nbchan'], EEG['pnts'], EEG['trials']))

gaus1 = np.exp(-4 * np.log(2) * (EEG['times'] - 0.8) ** 2)
gaus2 = np.exp(-4 * np.log(2) * (EEG['times'] - 0.9) ** 2 / 0.8)

for triali in range(EEG['trials']):
    
    dipact = 0.02 * np.random.randn(lf['Gain'].shape[2], EEG['pnts'])
    
    # Dipolo 1
    freqmod = 5 + 5 * interp1d(np.random.rand(EEG['pnts']), 
                               np.linspace(1, 10, EEG['pnts']), 
                               fill_value="extrapolate")(np.arange(EEG['pnts']))
    IFsignal = np.sin(2 * np.pi * ((EEG['times'] + np.cumsum(freqmod)) / EEG['srate']))
    dipact[diploc1, :] = IFsignal * gaus1

    # Dipolo 2
    freqmod = 7 + 5 * interp1d(np.random.rand(EEG['pnts']), 
                               np.linspace(1, 10, EEG['pnts']), 
                               fill_value="extrapolate")(np.arange(EEG['pnts']))
    IFsignal = np.sin(2 * np.pi * ((EEG['times'] + np.cumsum(freqmod)) / EEG['srate']))
    dipact[diploc2, :] = IFsignal * gaus2

    # Proyectar a la superficie del cuero cabelludo
    EEG['data'][:, :, triali] = np.dot(lf['Gain'][:, 0, :], dipact)

# ================================
# 2. Carga y Procesamiento de Datos EMG
# ================================

file_location = '' 
EMG_all = np.load(file_location + 'EMG_all_epochs.npy')
print('Shape of EMG:', EMG_all.shape)

if EMG_all.shape[0] < EEG['trials']:
    raise ValueError('EMG tiene menos trials que EEG.')
if EMG_all.shape[1] < EEG['pnts']:
    print('EMG tiene menos puntos que EEG. Procediendo a resamplear.')

# ================================
# 3. Selección y Resampleo de Datos EMG
# ================================

EMG_selected = EMG_all[:EEG['trials'], :]

resampled_pnts = EEG['pnts']
EMG_resampled = np.zeros((EEG['trials'], resampled_pnts))

for triali in range(EEG['trials']):
    EMG_resampled[triali, :] = resample(EMG_selected[triali, :], resampled_pnts)

print('Shape of EMG_resampled:', EMG_resampled.shape)

# ================================
# 4. Integración de EMG en EEG por Canal
# ================================

emg_scale = 2

artifact_window_size = 200 
i_initial = 200
i_final = i_initial + artifact_window_size

if i_final > EEG['pnts']:
    raise ValueError('La ventana de artefacto excede el número de puntos en EEG.')

for triali in range(EEG['trials']):
    for chan in range(EEG['nbchan']):
        eeg_signal = EEG['data'][chan, :, triali]
        
        rms_eeg = get_rms(eeg_signal)
        
        emg_section = EMG_resampled[triali, i_initial:i_final]
        
        if emg_section.size != artifact_window_size:
            raise ValueError(f'La sección de EMG en trial {triali} no tiene {artifact_window_size} muestras.')
        
        rms_emg = get_rms(emg_section)
        
        SNR_dB = 0 
        SNR = 10 ** (SNR_dB / 10)
        
        coe = rms_eeg / (rms_emg * SNR)
        
        emg_scaled = emg_section * coe * emg_scale
        
        EEG['data'][chan, i_initial:i_final, triali] += emg_scaled

# ================================
# 5. Creación del Objeto RawArray de MNE y Visualización con Anotación
# ================================

montage = mne.channels.make_standard_montage('standard_1020')
info = mne.create_info(ch_names=montage.ch_names[:EEG['nbchan']], 
                       sfreq=EEG['srate'], 
                       ch_types='eeg')

raw_eeg = mne.io.RawArray(EEG['data'][:, :, 0], info)

raw_eeg.set_montage(montage)

# ================================
# 6. Añadir Anotación del Artefacto EMG
# ================================

t_initial = i_initial / EEG['srate']
duration = artifact_window_size / EEG['srate']

annotations = mne.Annotations(onset=[t_initial], 
                              duration=[duration], 
                              description=['EMG Artifact'])

raw_eeg.set_annotations(annotations)

# ================================
# 7. Graficar los Datos EEG con Anotación del Artefacto EMG
# ================================

raw_eeg.plot(scalings=dict(eeg=20e-1), 
            title='Datos EEG Simulados con Artefactos EMG', 
            n_channels=EEG['nbchan'],
            show=True)

# ================================
# 8. Visualización Opcional del EMG Añadido
# ================================

info_emg = mne.create_info(ch_names=['EMG'], sfreq=EEG['srate'], ch_types=['emg'])

emg_visualization = EMG_resampled[0, i_initial:i_final] * emg_scale
raw_emg = mne.io.RawArray(emg_visualization[np.newaxis, :], info_emg)  # Añadir dimensión de canal

raw_emg.plot(n_channels=1, 
            scalings=dict(emg=100000), 
            title='Señales EMG Añadidas (Primer Trial)', 
            show=True, 
            block=True)




