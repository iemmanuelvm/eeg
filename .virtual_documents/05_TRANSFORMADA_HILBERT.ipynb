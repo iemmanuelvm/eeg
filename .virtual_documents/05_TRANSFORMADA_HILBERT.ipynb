import numpy as np
import matplotlib.pyplot as plt
from scipy.signal import hilbert


fs = 1000
t = np.linspace(0, 1, fs, endpoint=False)
signal = np.sin(2 * np.pi * 50 * t) + 0.5 * np.random.randn(fs)


analytic_signal = hilbert(signal)
amplitude_envelope = np.abs(analytic_signal)
instantaneous_phase = np.angle(analytic_signal)


recovered_signal = np.real(analytic_signal)


# Plot the original and reconstructed signals
plt.figure(figsize=(12, 6))
plt.subplot(2, 1, 1)
plt.plot(t, signal, label='Original Signal')
plt.title('Original Signal (Time Domain)')
plt.xlabel('Time [s]')
plt.ylabel('Amplitude')
plt.legend()

plt.subplot(2, 1, 2)
plt.plot(t[:len(recovered_signal)], recovered_signal, label='Reconstructed Signal', color='orange')
plt.title('Reconstructed Signal from DWT')
plt.xlabel('Time [s]')
plt.ylabel('Amplitude')
plt.legend()

plt.tight_layout()
plt.show()



