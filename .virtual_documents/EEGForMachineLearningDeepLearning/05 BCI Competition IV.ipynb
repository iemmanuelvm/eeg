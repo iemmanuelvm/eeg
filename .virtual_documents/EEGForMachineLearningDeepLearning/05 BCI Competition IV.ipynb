## analyse the data
import mne


raw=mne.io.read_raw_gdf('BCICIV_2a_gdf/A04T.gdf',
                         eog=['EOG-left', 'EOG-central', 'EOG-right'])
raw.drop_channels(['EOG-left', 'EOG-central', 'EOG-right'])


raw.annotations


events=mne.events_from_annotations(raw)
events[1]


events[0][0:20]





event_dict={
 'reject':1,
 'eye move':2,
 'eye open':3,
 'eye close':4,
 'new run':5,
 'new trial':6,
 'class 1':7,
 'class 2':8,
}


#https://mne.tools/stable/auto_tutorials/intro/10_overview.html#sphx-glr-auto-tutorials-intro-10-overview-py
fig = mne.viz.plot_events(events[0], event_id=event_dict, sfreq=raw.info['sfreq'],
                          first_samp=raw.first_samp)


epochs = mne.Epochs(raw, events[0], event_id=[7,8,2,1],tmin= -0.1, tmax=0.7, preload=True)


epochs.get_data().shape



label=epochs.events[:,-1]
len(label)


evoked_0 = epochs['1'].average()
evoked_1 = epochs['2'].average()
evoked_2 = epochs['3'].average()
evoked_3 = epochs['4'].average()


#left,right,foot,tongue
dicts={'class0':evoked_0,'class1':evoked_1,'class2':evoked_2,'class3':evoked_3}
mne.viz.plot_compare_evokeds(dicts)



