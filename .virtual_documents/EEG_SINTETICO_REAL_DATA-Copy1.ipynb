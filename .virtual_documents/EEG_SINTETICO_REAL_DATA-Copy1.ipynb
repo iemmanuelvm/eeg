import numpy as np
import mne
import matplotlib.pyplot as plt
import math
%matplotlib qt


def show_data_informations(signal, signal_type):
    print(f"Tipo de datos {signal_type}:", type(signal))
    print(f"Forma de los datos {signal_type}:", signal.shape)


def generate_data(data, sfreq, ch_names, ch_types, dictionary):
    info = mne.create_info(ch_names=ch_names, sfreq=sfreq, ch_types=ch_types)
    raw_eog = mne.io.RawArray(data.reshape(1, -1), info)
    raw_eog.plot(scalings=dictionary, title='Señal', show=True, block=True)


EOG_all_epochs = 'EOG_all_epochs.npy'
EMG_all_epochs = 'EMG_all_epochs.npy'
EEG_all_epochs = 'EEG_all_epochs.npy'

eog_data = np.load(EOG_all_epochs)
emg_data = np.load(EMG_all_epochs)
eeg_data = np.load(EEG_all_epochs)

show_data_informations(eog_data, 'EOG')
show_data_informations(emg_data, 'EMG')
show_data_informations(eeg_data, 'EEG')


generate_data(eog_data, 512, ['EOG'], ['eog'], dict(eog=1000))


generate_data(emg_data, 512, ['EMG'], ['emg'], dict(emg=100000))


generate_data(eeg_data, 512, ['EEG'], ['eeg'], dict(eeg=10000))


def get_rms(records):
    return math.sqrt(sum([x ** 2 for x in records]) / len(records))

def random_signal(signal, combine_num):
    random_result=[]

    for i in range(combine_num):
        random_num = np.random.permutation(signal.shape[0])
        shuffled_dataset = signal[random_num, :]
        shuffled_dataset = shuffled_dataset.reshape(signal.shape[0],signal.shape[1])
        random_result.append(shuffled_dataset)
    random_result  = np.array(random_result)
    return  random_result


EEG_all_random = np.squeeze(random_signal(signal=eeg_data, combine_num=1))
NOISE_all_random_eog = np.squeeze(random_signal(signal=eog_data, combine_num=1))
NOISE_all_random_emg = np.squeeze(random_signal(signal=emg_data, combine_num=1))


SNR_dB = np.random.uniform(-7, 2, (eeg_data.shape[0]))
print("Forma de SNR_dB:", SNR_dB.shape)
SNR = 10 ** (0.1 * SNR_dB)


num_eeg_samples = EEG_all_random.shape[0]
num_eog_samples = eog_data.shape[0]

print("Número de muestras de EEG:", num_eeg_samples)
print("Número de muestras de EOG:", num_eog_samples)


needed_repetitions_eog = int(np.ceil(num_eeg_samples / num_eog_samples))  # Calcula cuántas veces repetir
print("Repeticiones necesarias:", needed_repetitions_eog)

needed_repetitions_emg = int(np.ceil(num_eeg_samples / num_emg_samples))  # Calcula cuántas veces repetir
print("Repeticiones necesarias:", needed_repetitions_emg)

NOISE_all_random_eog = random_signal(signal=eog_data, combine_num=needed_repetitions_eog)
NOISE_all_random_eog = NOISE_all_random_eog.reshape(-1, eog_data.shape[1])  # Aplanar a 2D

NOISE_all_random_emg = random_signal(signal=emg_data, combine_num=needed_repetitions_eog)
NOISE_all_random_emg = NOISE_all_random_emg.reshape(-1, emg_data.shape[1])  # Aplanar a 2D

print("Número total de muestras de ruido después de aplanar:", NOISE_all_random_eog.shape[0])
print("Número total de muestras de ruido después de aplanar:", NOISE_all_random_emg.shape[0])

if NOISE_all_random_eog.shape[0] < num_eeg_samples:
    extra_needed = num_eeg_samples - NOISE_all_random_eog.shape[0]
    extra_noise = random_signal(signal=eog_data, combine_num=1)
    extra_noise = extra_noise.reshape(-1, eog_data.shape[1])
    NOISE_all_random_eog = np.concatenate((NOISE_all_random_eog, extra_noise), axis=0)

NOISE_all_random_eog = NOISE_all_random_eog[:num_eeg_samples]

print("Forma final de NOISE_all_random_eog:", NOISE_all_random_eog.shape)
print("Forma de EEG_all_random:", EEG_all_random.shape)

SNR_dB = np.random.uniform(-7, 2, num_eeg_samples)
SNR = 10 ** (0.1 * SNR_dB)
print("Forma de SNR:", SNR.shape)

noiseEEG = []
NOISE_adjust = []
for i in range(num_eeg_samples):
    eeg = EEG_all_random[i]
    noise = NOISE_all_random_eog[i]

    coe = get_rms(eeg) / (get_rms(noise) * SNR[i])
    noise = noise * coe
    noise_eeg = eeg + noise

    NOISE_adjust.append(noise)
    noiseEEG.append(noise_eeg)

noiseEEG = np.array(noiseEEG)
NOISE_adjust = np.array(NOISE_adjust)

EEG_end_standard = []
noiseEEG_end_standard = []
for i in range(num_eeg_samples):
    eeg_std = EEG_all_random[i] / np.std(noiseEEG[i])
    EEG_end_standard.append(eeg_std)
    noiseeeg_std = noiseEEG[i] / np.std(noiseEEG[i])
    noiseEEG_end_standard.append(noiseeeg_std)

EEG_end_standard = np.array(EEG_end_standard)
noiseEEG_end_standard = np.array(noiseEEG_end_standard)

print("Forma final de EEG_end_standard:", EEG_end_standard.shape)
print("Forma final de noiseEEG_end_standard:", noiseEEG_end_standard.shape)


generate_data(EEG_end_standard, 512, ['EEG'], ['eeg'], dict(eeg=10))


generate_data(noiseEEG_end_standard, 512, ['EEG'], ['eeg'], dict(eeg=10))


noiseEEG_flat = noiseEEG_end_standard.flatten()
EEG_flat = EEG_end_standard.flatten()
data = np.vstack((noiseEEG_flat, EEG_flat))
sfreq = 512
info = mne.create_info(ch_names=['noiseEEG', 'EEG'], sfreq=sfreq, ch_types=['eeg', 'eeg'])
raw = mne.io.RawArray(data, info)
raw.plot(scalings=dict(eeg=10))


import numpy as np

# Generar señales aleatorias de EEG, EOG y EMG
EEG_all_random = np.squeeze(random_signal(signal=eeg_data, combine_num=1))
NOISE_all_random_eog = np.squeeze(random_signal(signal=eog_data, combine_num=1))
NOISE_all_random_emg = np.squeeze(random_signal(signal=emg_data, combine_num=1))

# Generar SNR en dB
SNR_dB = np.random.uniform(-7, 2, EEG_all_random.shape[0])
SNR = 10 ** (0.1 * SNR_dB)

# Ajuste del número de muestras
num_eeg_samples = EEG_all_random.shape[0]
num_eog_samples = eog_data.shape[0]
num_emg_samples = emg_data.shape[0]

# Calcular repeticiones necesarias para EOG y EMG
needed_repetitions_eog = int(np.ceil(num_eeg_samples / num_eog_samples))
needed_repetitions_emg = int(np.ceil(num_eeg_samples / num_emg_samples))

# Generar ruido EOG y EMG repetido y aplanar a 2D
NOISE_all_random_eog = random_signal(signal=eog_data, combine_num=needed_repetitions_eog)
NOISE_all_random_eog = NOISE_all_random_eog.reshape(-1, eog_data.shape[1])

NOISE_all_random_emg = random_signal(signal=emg_data, combine_num=needed_repetitions_emg)
NOISE_all_random_emg = NOISE_all_random_emg.reshape(-1, emg_data.shape[1])

# Ajustar el tamaño del ruido si es menor al número de muestras de EEG
if NOISE_all_random_eog.shape[0] < num_eeg_samples:
    extra_needed = num_eeg_samples - NOISE_all_random_eog.shape[0]
    extra_noise = random_signal(signal=eog_data, combine_num=1).reshape(-1, eog_data.shape[1])
    NOISE_all_random_eog = np.concatenate((NOISE_all_random_eog, extra_noise), axis=0)

if NOISE_all_random_emg.shape[0] < num_eeg_samples:
    extra_needed = num_eeg_samples - NOISE_all_random_emg.shape[0]
    extra_noise = random_signal(signal=emg_data, combine_num=1).reshape(-1, emg_data.shape[1])
    NOISE_all_random_emg = np.concatenate((NOISE_all_random_emg, extra_noise), axis=0)

# Recortar el ruido a la misma longitud que EEG
NOISE_all_random_eog = NOISE_all_random_eog[:num_eeg_samples]
NOISE_all_random_emg = NOISE_all_random_emg[:num_eeg_samples]

print("Forma final de NOISE_all_random_eog:", NOISE_all_random_eog.shape)
print("Forma final de NOISE_all_random_emg:", NOISE_all_random_emg.shape)
print("Forma de EEG_all_random:", EEG_all_random.shape)

# Ajuste de ruido y combinación de señales
noiseEEG = []
NOISE_adjust_eog = []
NOISE_adjust_emg = []

for i in range(num_eeg_samples):
    eeg = EEG_all_random[i]
    noise_eog = NOISE_all_random_eog[i]
    noise_emg = NOISE_all_random_emg[i]

    # Ajustar EOG
    coe_eog = get_rms(eeg) / (get_rms(noise_eog) * SNR[i])
    noise_eog = noise_eog * coe_eog

    # Ajustar EMG
    coe_emg = get_rms(eeg) / (get_rms(noise_emg) * SNR[i])
    noise_emg = noise_emg * coe_emg

    # Sumar ruido EOG y EMG al EEG
    combined_noise = noise_eog + noise_emg
    noise_eeg = eeg + combined_noise

    NOISE_adjust_eog.append(noise_eog)
    NOISE_adjust_emg.append(noise_emg)
    noiseEEG.append(noise_eeg)

# Convertir a arreglos numpy
noiseEEG = np.array(noiseEEG)
NOISE_adjust_eog = np.array(NOISE_adjust_eog)
NOISE_adjust_emg = np.array(NOISE_adjust_emg)






