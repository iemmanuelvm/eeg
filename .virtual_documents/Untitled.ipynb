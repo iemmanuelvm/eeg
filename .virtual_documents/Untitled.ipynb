import numpy as np
import mne
import matplotlib.pyplot as plt
from scipy.signal import welch, spectrogram
import math
import librosa
import scipy.signal
import torch
from pathlib import Path
%matplotlib qt


def show_data_informations(signal, signal_type):
    print(f"Tipo de datos {signal_type}:", type(signal))
    print(f"Forma de los datos {signal_type}:", signal.shape)


EOG_all_epochs = 'EOG_all_epochs.npy'
EMG_all_epochs = 'EMG_all_epochs.npy'
EEG_all_epochs = 'EEG_all_epochs.npy'

eog_data = np.load(EOG_all_epochs)
emg_data = np.load(EMG_all_epochs)
eeg_data = np.load(EEG_all_epochs)

show_data_informations(eog_data, 'EOG')
show_data_informations(emg_data, 'EMG')
show_data_informations(eeg_data, 'EEG')


def get_rms(records):
    return math.sqrt(sum([x ** 2 for x in records]) / len(records))

def random_signal(signal, combine_num):
    random_result=[]

    for i in range(combine_num):
        random_num = np.random.permutation(signal.shape[0])
        shuffled_dataset = signal[random_num, :]
        shuffled_dataset = shuffled_dataset.reshape(signal.shape[0],signal.shape[1])
        random_result.append(shuffled_dataset)
    random_result  = np.array(random_result)
    return  random_result


# Generar señales aleatorias de EEG, EOG y EMG
EEG_all_random = np.squeeze(random_signal(signal=eeg_data, combine_num=1))
NOISE_all_random_eog = np.squeeze(random_signal(signal=eog_data, combine_num=1))
NOISE_all_random_emg = np.squeeze(random_signal(signal=emg_data, combine_num=1))

# Generar SNR para EOG y EMG
SNR_dB_eog = np.random.uniform(-7, 2, (eeg_data.shape[0]))
SNR_dB_emg = np.random.uniform(-7, 2, (eeg_data.shape[0]))
SNR_eog = 10 ** (0.1 * SNR_dB_eog)
SNR_emg = 10 ** (0.1 * SNR_dB_emg)

# Ajustar el tamaño de las señales de EOG y EMG
num_eeg_samples = EEG_all_random.shape[0]
num_eog_samples = eog_data.shape[0]
num_emg_samples = emg_data.shape[0]

needed_repetitions_eog = int(np.ceil(num_eeg_samples / num_eog_samples))
needed_repetitions_emg = int(np.ceil(num_eeg_samples / num_emg_samples))

# Generar ruido aleatorio para EOG y EMG
NOISE_all_random_eog = random_signal(signal=eog_data, combine_num=needed_repetitions_eog)
NOISE_all_random_emg = random_signal(signal=emg_data, combine_num=needed_repetitions_emg)

# Aplanar las señales de ruido a 2D
NOISE_all_random_eog = NOISE_all_random_eog.reshape(-1, eog_data.shape[1])
NOISE_all_random_emg = NOISE_all_random_emg.reshape(-1, emg_data.shape[1])

# Ajustar el tamaño si es necesario
if NOISE_all_random_eog.shape[0] < num_eeg_samples:
    extra_needed = num_eeg_samples - NOISE_all_random_eog.shape[0]
    extra_noise = random_signal(signal=eog_data, combine_num=1).reshape(-1, eog_data.shape[1])
    NOISE_all_random_eog = np.concatenate((NOISE_all_random_eog, extra_noise), axis=0)

if NOISE_all_random_emg.shape[0] < num_eeg_samples:
    extra_needed = num_eeg_samples - NOISE_all_random_emg.shape[0]
    extra_noise = random_signal(signal=emg_data, combine_num=1).reshape(-1, emg_data.shape[1])
    NOISE_all_random_emg = np.concatenate((NOISE_all_random_emg, extra_noise), axis=0)

# Recortar a num_eeg_samples
NOISE_all_random_eog = NOISE_all_random_eog[:num_eeg_samples]
NOISE_all_random_emg = NOISE_all_random_emg[:num_eeg_samples]

# Mezclar ruido EOG con EEG
noiseEEG_EOG = []
for i in range(num_eeg_samples):
    eeg = EEG_all_random[i]
    noise_eog = NOISE_all_random_eog[i]
    coe_eog = get_rms(eeg) / (get_rms(noise_eog) * SNR_eog[i])
    noise_eog = noise_eog * coe_eog
    noise_eeg_eog = eeg + noise_eog
    noiseEEG_EOG.append(noise_eeg_eog)

# Mezclar ruido EMG con EEG
noiseEEG_EMG = []
for i in range(num_eeg_samples):
    eeg = EEG_all_random[i]
    noise_emg = NOISE_all_random_emg[i]
    coe_emg = get_rms(eeg) / (get_rms(noise_emg) * SNR_emg[i])
    noise_emg = noise_emg * coe_emg
    noise_eeg_emg = eeg + noise_emg
    noiseEEG_EMG.append(noise_eeg_emg)

# Convertir a numpy arrays
noiseEEG_EOG = np.array(noiseEEG_EOG)
noiseEEG_EMG = np.array(noiseEEG_EMG)

# Estandarizar las señales
EEG_end_standard = EEG_all_random / np.std(EEG_all_random)
noiseEEG_EOG_standard = noiseEEG_EOG / np.std(noiseEEG_EOG)
noiseEEG_EMG_standard = noiseEEG_EMG / np.std(noiseEEG_EMG)

# Preparar datos para visualización
EEG_flat = EEG_end_standard.flatten()
noiseEEG_EOG_flat = noiseEEG_EOG_standard.flatten()
noiseEEG_EMG_flat = noiseEEG_EMG_standard.flatten()
data = np.vstack((EEG_flat, noiseEEG_EOG_flat, noiseEEG_EMG_flat))
sfreq = 512
info = mne.create_info(ch_names=['EEG', 'EEG+EOG', 'EEG+EMG'], sfreq=sfreq, ch_types=['eeg', 'eeg', 'eeg'])
raw = mne.io.RawArray(data, info)

# Graficar las señales
raw.plot(scalings=dict(eeg=10))


# Función para generar el espectrograma
def make_spectrum(y, feature_type='logmag', _max=None, _min=None):
    # Procesar la señal de EEG
    if y is None:
        raise ValueError("La señal EEG no puede ser None.")

    # Obtener la ventana Hamming
    window = scipy.signal.get_window('hamming', 512)

    # Aplicar la Transformada de Fourier de corto plazo (STFT)
    D = librosa.stft(y, center=False, n_fft=512, hop_length=160, win_length=512, window=window)
    phase = np.exp(1j * np.angle(D))
    D = np.abs(D)

    # Seleccionar el tipo de característica
    if feature_type == 'logmag':
        Sxx = np.log1p(D)
    elif feature_type == 'lps':
        Sxx = np.log10(D**2)
    else:
        Sxx = D

    return Sxx, phase, len(y)

# Función para reconstruir la señal a partir del espectrograma
def recons_spec_phase(Sxx_r, phase, length_wav, feature_type='logmag'):
    # Reconstruir la magnitud
    if feature_type == 'logmag':
        Sxx_r = np.expm1(Sxx_r)
        Sxx_r = np.clip(Sxx_r, a_min=0., a_max=None)
    elif feature_type == 'lps':
        Sxx_r = np.sqrt(10 ** Sxx_r)

    # Obtener la ventana Hamming
    window = scipy.signal.get_window('hamming', 512)

    # Multiplicar por la fase y aplicar la inversa de STFT
    R = np.multiply(Sxx_r, phase)
    result = librosa.istft(R, center=False, hop_length=160, win_length=512, window=window, length=length_wav)
    return result


print(EEG_flat.shape)
print(noiseEEG_EOG_flat.shape)
print(noiseEEG_EMG_flat.shape)


SxxEEG, _, _ = make_spectrum(EEG_flat)
SxxEEGEOG, _, _ = make_spectrum(EEG_flat)
SxxEEGEMG, _, _ = make_spectrum(EEG_flat)


clean_eeg_path = 'dataset/clean_eeg'
noisy_eeg_emg_path = 'dataset/noisy_eeg_emg'
noisy_eeg_eog_path = 'dataset/noisy_eeg_eog'


def process_and_save_spectrogram(Sxx, n_frame, out_path):
    for i in range(Sxx.shape[1] // n_frame):
        Path(out_path).mkdir(parents=True, exist_ok=True)
        out_name = os.path.join(out_path, f'{file_name.split(".")[0]}_{i}.pt')
        frame_data = torch.from_numpy(Sxx.transpose()[i * n_frame:(i + 1) * n_frame])
        torch.save(frame_data, out_name)
        print(f'Saved: {out_name}')


process_and_save_spectrogram(Sxx=SxxEEG, n_frame=64, out_path=clean_eeg_path)


process_and_save_spectrogram(Sxx=SxxEEGEOG, n_frame=64, out_path=noisy_eeg_emg_path)


process_and_save_spectrogram(Sxx=SxxEEGEMG, n_frame=64, out_path=noisy_eeg_eog_path)
