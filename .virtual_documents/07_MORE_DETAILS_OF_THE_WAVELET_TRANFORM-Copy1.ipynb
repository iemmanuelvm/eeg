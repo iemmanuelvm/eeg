























import numpy as np
import matplotlib.pyplot as plt
import pywt





# Generate the signal
t = np.linspace(0, 1, 1000, endpoint=False)
signal = np.cos(2.0 * np.pi * 7 * t) + np.sin(2.0 * np.pi * 13 * t)

# Apply DWT
coeffs = pywt.dwt(signal, 'db1')
cA, cD = coeffs

# Plotting
plt.figure(figsize=(12, 4))
plt.subplot(1, 3, 1)
plt.plot(t, signal)
plt.title("Original Signal")
plt.subplot(1, 3, 2)
plt.plot(cA)
plt.title("Approximation Coefficients")
plt.subplot(1, 3, 3)
plt.plot(cD)
plt.title("Detail Coefficients")
plt.tight_layout()
plt.show()





# Generate a chirp signal
t = np.linspace(0, 1, 1000, endpoint=False)
signal = np.sin(2.0 * np.pi * 7 * t * t)

# Apply CWT
coefficients, frequencies = pywt.cwt(signal, scales=np.arange(1, 128), wavelet='cmor')

# Plotting
plt.figure(figsize=(10, 6))
plt.imshow(np.abs(coefficients), aspect='auto', cmap='jet', extent=[0, 1, 1, 128])
plt.colorbar(label="Magnitude")
plt.ylabel("Scale")
plt.xlabel("Time")
plt.title("CWT of a Chirp Signal")
plt.show()








# Generate a simple sinusoidal signal
t = np.linspace(0, 1, 1000, endpoint=False)
clean_signal = np.sin(2.0 * np.pi * 10 * t)

# Add random noise
noise = np.random.normal(0, 0.5, clean_signal.shape)
noisy_signal = clean_signal + noise

# Plotting the clean and noisy signals
plt.figure(figsize=(12, 4))
plt.subplot(1, 2, 1)
plt.plot(t, clean_signal)
plt.title("Clean Signal")
plt.subplot(1, 2, 2)
plt.plot(t, noisy_signal)
plt.title("Noisy Signal")
plt.tight_layout()
plt.show()





# Perform a multi-level wavelet decomposition
coeffs = pywt.wavedec(noisy_signal, 'db1', level=4)

# Set a threshold to nullify smaller coefficients (assumed to be noise)
threshold = 0.5
coeffs_thresholded = [pywt.threshold(c, threshold, mode='soft') for c in coeffs]

# Reconstruct the signal from the thresholded coefficients
denoised_signal = pywt.waverec(coeffs_thresholded, 'db1')

# Plotting the noisy and denoised signals
plt.figure(figsize=(12, 4))
plt.subplot(1, 2, 1)
plt.plot(t, noisy_signal)
plt.title("Noisy Signal")
plt.subplot(1, 2, 2)
plt.plot(t, denoised_signal)
plt.title("Denoised Signal")
plt.tight_layout()
plt.show()

















import mne
import numpy as np
import matplotlib.pyplot as plt
from scipy.io import loadmat
import mne
from mpl_toolkits.mplot3d import Axes3D
%matplotlib qt


init_data = loadmat('emptyEEG.mat')
EEG = {}
EEG['srate']  = init_data['EEG'][0, 0]['srate'][0, 0]
EEG['pnts']   = 1500
EEG['trials'] = 30
EEG['nbchan'] = 1
EEG['nbchan_names'] = [chan[0][0] for chan in init_data['EEG'][0, 0]['chanlocs'][0]]
EEG['times'] = np.arange(0, EEG['pnts']) / EEG['srate']
EEG['data'] = np.zeros((EEG['nbchan'], EEG['pnts'], EEG['trials']))


# Parametros de gaussina
peaktime = 1
width = 0.12
# Parametros de funcion seno
sinefreq = 7
# Amplitud del ruido
noiseamp = 0.3

# Crear la envolvente Gaussian
gaus = np.exp(-(EEG['times'] - peaktime) ** 2 / (2 * width ** 2))

for chani in range(EEG['nbchan']):
    for triali in range(EEG['trials']):
        sinw = np.sin(2 * np.pi * sinefreq * EEG['times'] + 2 * np.pi * np.random.rand())

        # Ruido 1/f
        """
        Genera una señal de ruido con una distribución espectral de potencia que sigue una ley de potencia inversa, 
        comúnmente conocida como ruido 1/f o ruido rosa.
        """
        ed = 50
        as_vals = np.random.rand(EEG['pnts'] // 2 - 1) * np.exp(-(np.arange(1, EEG['pnts'] // 2)) / ed)
        as_vals = np.concatenate(([as_vals[0]], as_vals, [0], as_vals[::-1]))

        # Coeficientes de Fourier
        fc = as_vals * np.exp(1j * 2 * np.pi * np.random.rand(len(as_vals)))

        # Transformada inversa de Fourier para crear el ruido
        noise = np.real(np.fft.ifft(fc)) * EEG['pnts']

        # Señal + ruido
        EEG['data'][chani, :, triali] = sinw * gaus + noiseamp * noise


EEG['data'].shape


# Seleccionar el canal
canal_idx = 0  # Cambia este índice al canal que desees

# Extraer los datos para el canal seleccionado
eeg_signals = EEG['data'][canal_idx, :, :]  # Dimensiones: (puntos de tiempo, ensayos)
tiempos = EEG['times'].flatten()

# Graficar todas las señales superpuestas
plt.figure(figsize=(12, 6))

plt.plot(tiempos, eeg_signals[:, 1], alpha=0.3)

plt.xlabel('Tiempo (ms)')
plt.ylabel('Amplitud (µV)')
plt.title(f'Canal {canal_idx} - Todos los Ensayos Superpuestos')
plt.show()



canal_idx = 0  # Cambia este índice al canal que desees

eeg_signals = eeg_signals[:, 1]  # Dimensiones: (puntos de tiempo, ensayos)
tiempos = EEG['times'].flatten()


t = EEG['times'].flatten()
signal = eeg_signals

# Apply DWT
coeffs = pywt.dwt(signal, 'db1')
cA, cD = coeffs

# Plotting
plt.figure(figsize=(12, 4))
plt.subplot(1, 3, 1)
plt.plot(t, signal)
plt.title("Original Signal")
plt.subplot(1, 3, 2)
plt.plot(cA)
plt.title("Approximation Coefficients")
plt.subplot(1, 3, 3)
plt.plot(cD)
plt.title("Detail Coefficients")
plt.tight_layout()
plt.show()


print(tiempos.shape)
print(eeg_signals.shape)


# Generate a chirp signal
t = tiempos
signal = eeg_signals
print(signal.shape)
print(t.shape)
# Apply CWT
coefficients, frequencies = pywt.cwt(signal, scales=np.arange(1, 128), wavelet='cmor')

# Plotting
plt.figure(figsize=(10, 6))
plt.imshow(np.abs(coefficients), aspect='auto', cmap='jet', extent=[0, 1, 1, 128])
plt.colorbar(label="Magnitude")
plt.ylabel("Scale")
plt.xlabel("Time")
plt.title("CWT of a Chirp Signal")
plt.show()











import mne
import pandas as pd
import matplotlib.pyplot as plt
import os
%matplotlib qt

edf_file = "eeg-artifacts/aaaaaaju_s007_t000.edf"
annotations_file = "eeg-artifacts/aaaaaaju_s007_t000.csv"

if not os.path.exists(edf_file):
    raise FileNotFoundError(f"El archivo EDF no se encontró en la ruta: {edf_file}")
if not os.path.exists(annotations_file):
    raise FileNotFoundError(f"El archivo de anotaciones no se encontró en la ruta: {annotations_file}")

channel_mapping = {
    'EEG FP1-REF': 'Fp1', 'EEG FP2-REF': 'Fp2',
    'EEG F3-REF': 'F3', 'EEG F4-REF': 'F4',
    'EEG C3-REF': 'C3', 'EEG C4-REF': 'C4',
    'EEG P3-REF': 'P3', 'EEG P4-REF': 'P4',
    'EEG O1-REF': 'O1', 'EEG O2-REF': 'O2',
    'EEG F7-REF': 'F7', 'EEG F8-REF': 'F8',
    'EEG T3-REF': 'T3', 'EEG T4-REF': 'T4',
    'EEG T5-REF': 'T5', 'EEG T6-REF': 'T6',
    'EEG FZ-REF': 'Fz', 'EEG CZ-REF': 'Cz',
    'EEG PZ-REF': 'Pz'
}

raw = mne.io.read_raw_edf(edf_file, preload=True, verbose='ERROR')

channels_to_keep = [ch for ch in raw.ch_names if ch in channel_mapping]
raw.pick(channels_to_keep)

raw.rename_channels(channel_mapping)

annotations_df = pd.read_csv(annotations_file, comment='#')

annotation_mapping = {ch.split()[1]: new_name for ch, new_name in channel_mapping.items()}

def map_annotation_channel(channel):
    try:
        ch1, ch2 = channel.split('-')
        mapped_ch1 = annotation_mapping.get(ch1, ch1)
        mapped_ch2 = annotation_mapping.get(ch2, ch2)
        return f"{mapped_ch1}-{mapped_ch2}"
    except ValueError:
        return channel

annotations_df['channel'] = annotations_df['channel'].map(map_annotation_channel)

valid_channels = [f"{ch1}-{ch2}" for ch1 in annotation_mapping.values() for ch2 in annotation_mapping.values()]
annotations_df = annotations_df[annotations_df['channel'].isin(valid_channels)]

annotations = mne.Annotations(
    onset=annotations_df['start_time'].values,
    duration=(annotations_df['stop_time'] - annotations_df['start_time']).values,
    description=annotations_df['label'].values
)

raw.set_annotations(annotations)

raw.plot(
    n_channels=len(raw.ch_names),
    scalings=dict(eeg=20e-5),
    title='EEG with Channel Mapping and Annotations',
    show=True,
    group_by='original',
    remove_dc=False
)



import mne
import pandas as pd
import matplotlib.pyplot as plt
import os
%matplotlib qt

edf_file = "eeg-artifacts/aaaaaaju_s007_t000.edf"

if not os.path.exists(edf_file):
    raise FileNotFoundError(f"El archivo EDF no se encontró en la ruta: {edf_file}")

channel_mapping = {
    'EEG FP1-REF': 'Fp1', 'EEG FP2-REF': 'Fp2',
    'EEG F3-REF': 'F3', 'EEG F4-REF': 'F4',
    'EEG C3-REF': 'C3', 'EEG C4-REF': 'C4',
    'EEG P3-REF': 'P3', 'EEG P4-REF': 'P4',
    'EEG O1-REF': 'O1', 'EEG O2-REF': 'O2',
    'EEG F7-REF': 'F7', 'EEG F8-REF': 'F8',
    'EEG T3-REF': 'T3', 'EEG T4-REF': 'T4',
    'EEG T5-REF': 'T5', 'EEG T6-REF': 'T6',
    'EEG FZ-REF': 'Fz', 'EEG CZ-REF': 'Cz',
    'EEG PZ-REF': 'Pz'
}

raw = mne.io.read_raw_edf(edf_file, preload=True, verbose='ERROR')

channels_to_keep = [ch for ch in raw.ch_names if ch in channel_mapping]
raw.pick(channels_to_keep)

raw.rename_channels(channel_mapping)

def map_annotation_channel(channel):
    try:
        ch1, ch2 = channel.split('-')
        mapped_ch1 = annotation_mapping.get(ch1, ch1)
        mapped_ch2 = annotation_mapping.get(ch2, ch2)
        return f"{mapped_ch1}-{mapped_ch2}"
    except ValueError:
        return channel




raw.plot(
    n_channels=len(raw.ch_names),
    scalings=dict(eeg=20e-5),
    title='EEG with Channel Mapping and Annotations',
    show=True,
    group_by='original',
    remove_dc=False
)



import mne
import pandas as pd
import matplotlib.pyplot as plt
import os
%matplotlib qt

edf_file = "eeg-artifacts/aaaaaaju_s007_t000.edf"

if not os.path.exists(edf_file):
    raise FileNotFoundError(f"El archivo EDF no se encontró en la ruta: {edf_file}")

channel_mapping = {
    'EEG FP1-REF': 'Fp1', 'EEG FP2-REF': 'Fp2',
    'EEG F3-REF': 'F3', 'EEG F4-REF': 'F4',
    'EEG C3-REF': 'C3', 'EEG C4-REF': 'C4',
    'EEG P3-REF': 'P3', 'EEG P4-REF': 'P4',
    'EEG O1-REF': 'O1', 'EEG O2-REF': 'O2',
    'EEG F7-REF': 'F7', 'EEG F8-REF': 'F8',
    'EEG T3-REF': 'T3', 'EEG T4-REF': 'T4',
    'EEG T5-REF': 'T5', 'EEG T6-REF': 'T6',
    'EEG FZ-REF': 'Fz', 'EEG CZ-REF': 'Cz',
    'EEG PZ-REF': 'Pz'
}

raw = mne.io.read_raw_edf(edf_file, preload=True, verbose='ERROR')

channels_to_keep = [ch for ch in raw.ch_names if ch in channel_mapping]
raw.pick(channels_to_keep)

raw.rename_channels(channel_mapping)

# Seleccionar solo los canales Fp1 y F7
raw.pick_channels(['Fp1', 'F7'])

# Recortar los datos al intervalo de tiempo especificado
start_time = 0.0178
stop_time = 1.4167
raw.crop(tmin=start_time, tmax=stop_time)

# Graficar los datos filtrados
raw.plot(
    scalings=dict(eeg=20e-5),
    title='EEG de los canales Fp1 y F7',
    show=True,
    group_by='original',
    remove_dc=False
)



import mne
import pandas as pd
import matplotlib.pyplot as plt
import os

# Configuración de matplotlib para usar una interfaz gráfica
%matplotlib qt

# Ruta al archivo EDF
edf_file = "eeg-artifacts/aaaaaaju_s007_t000.edf"

# Verificar si el archivo existe
if not os.path.exists(edf_file):
    raise FileNotFoundError(f"El archivo EDF no se encontró en la ruta: {edf_file}")

# Mapeo de canales
channel_mapping = {
    'EEG FP1-REF': 'Fp1', 'EEG FP2-REF': 'Fp2',
    'EEG F3-REF': 'F3', 'EEG F4-REF': 'F4',
    'EEG C3-REF': 'C3', 'EEG C4-REF': 'C4',
    'EEG P3-REF': 'P3', 'EEG P4-REF': 'P4',
    'EEG O1-REF': 'O1', 'EEG O2-REF': 'O2',
    'EEG F7-REF': 'F7', 'EEG F8-REF': 'F8',
    'EEG T3-REF': 'T3', 'EEG T4-REF': 'T4',
    'EEG T5-REF': 'T5', 'EEG T6-REF': 'T6',
    'EEG FZ-REF': 'Fz', 'EEG CZ-REF': 'Cz',
    'EEG PZ-REF': 'Pz'
}

# Cargar el archivo EDF
raw = mne.io.read_raw_edf(edf_file, preload=True, verbose='ERROR')

# Seleccionar y renombrar los canales según el mapeo
channels_to_keep = [ch for ch in raw.ch_names if ch in channel_mapping]
raw.pick(channels_to_keep)
raw.rename_channels(channel_mapping)

# Seleccionar solo los canales Fp1 y F7
raw.pick_channels(['Fp1', 'F7'])

# Definir los intervalos de tiempo
intervals = [
    (0.0178, 1.4167),
    (46.0178, 73.0006)
]

# Iterar sobre cada intervalo y graficar
for idx, (start_time, stop_time) in enumerate(intervals, start=1):
    # Recortar los datos al intervalo de tiempo especificado
    raw_interval = raw.copy().crop(tmin=start_time, tmax=stop_time)
    
    # Graficar los datos filtrados
    raw_interval.plot(
        scalings=dict(eeg=20e-5),
        title=f'EEG de Fp1 y F7 - Intervalo {idx}: {start_time}s a {stop_time}s',
        show=True,
        group_by='original',
        remove_dc=False
    )



import mne
import pandas as pd
import matplotlib.pyplot as plt
import os

# Configuración de matplotlib para usar una interfaz gráfica
%matplotlib qt

# Ruta al archivo EDF
edf_file = "eeg-artifacts/aaaaaaju_s007_t000.edf"

# Verificar si el archivo existe
if not os.path.exists(edf_file):
    raise FileNotFoundError(f"El archivo EDF no se encontró en la ruta: {edf_file}")

# Mapeo de canales
channel_mapping = {
    'EEG FP1-REF': 'Fp1', 'EEG FP2-REF': 'Fp2',
    'EEG F3-REF': 'F3', 'EEG F4-REF': 'F4',
    'EEG C3-REF': 'C3', 'EEG C4-REF': 'C4',
    'EEG P3-REF': 'P3', 'EEG P4-REF': 'P4',
    'EEG O1-REF': 'O1', 'EEG O2-REF': 'O2',
    'EEG F7-REF': 'F7', 'EEG F8-REF': 'F8',
    'EEG T3-REF': 'T3', 'EEG T4-REF': 'T4',
    'EEG T5-REF': 'T5', 'EEG T6-REF': 'T6',
    'EEG FZ-REF': 'Fz', 'EEG CZ-REF': 'Cz',
    'EEG PZ-REF': 'Pz'
}

# Cargar el archivo EDF
raw = mne.io.read_raw_edf(edf_file, preload=True, verbose='ERROR')

# Seleccionar y renombrar los canales según el mapeo
channels_to_keep = [ch for ch in raw.ch_names if ch in channel_mapping]
raw.pick(channels_to_keep)
raw.rename_channels(channel_mapping)

# Definir las configuraciones de graficado
plot_configs = [
    {
        'channels': ['Fp1', 'F7'],
        'start_time': 0.0178,
        'stop_time': 1.4167,
        'title': 'EEG de Fp1 y F7 - Intervalo 1: 0.0178s a 1.4167s'
    },
    {
        'channels': ['Fp1', 'F7'],
        'start_time': 46.0178,
        'stop_time': 73.0006,
        'title': 'EEG de Fp1 y F7 - Intervalo 2: 46.0178s a 73.0006s'
    },
    {
        'channels': ['F7', 'T3'],
        'start_time': 409.5513,
        'stop_time': 409.8002,
        'title': 'EEG de F7 y T3 - Intervalo 3: 409.5513s a 409.8002s'
    }
]

# Crear una figura con subgráficos
num_plots = len(plot_configs)
fig, axes = plt.subplots(num_plots, 1, figsize=(15, 5 * num_plots), sharex=False)

# Si solo hay un plot, axes no será una lista, así que lo convertimos en una lista
if num_plots == 1:
    axes = [axes]

for idx, config in enumerate(plot_configs):
    channels = config['channels']
    start_time = config['start_time']
    stop_time = config['stop_time']
    title = config['title']
    
    # Verificar que los canales existen
    missing_channels = [ch for ch in channels if ch not in raw.ch_names]
    if missing_channels:
        print(f"Advertencia: Los siguientes canales no se encontraron y serán omitidos: {missing_channels}")
        # Continuar solo con los canales disponibles
        channels = [ch for ch in channels if ch in raw.ch_names]
        if not channels:
            print(f"Error: Ninguno de los canales especificados en la configuración {idx+1} está disponible. Se omitirá este plot.")
            continue
    
    # Crear una copia del objeto raw para evitar modificaciones
    raw_interval = raw.copy().pick_channels(channels).crop(tmin=start_time, tmax=stop_time)
    
    # Obtener los datos y el tiempo
    data, times = raw_interval.get_data(return_times=True)
    
    # Convertir a µV para mejor visualización (asumiendo que los datos están en V)
    data_uV = data * 1e6
    
    # Graficar en el subgráfico correspondiente
    for ch_idx, ch_name in enumerate(raw_interval.ch_names):
        axes[idx].plot(times, data_uV[ch_idx], label=ch_name)
    
    axes[idx].set_title(title)
    axes[idx].set_xlabel('Tiempo (s)')
    axes[idx].set_ylabel('Amplitud (µV)')
    axes[idx].legend(loc='upper right')
    axes[idx].grid(True)

plt.tight_layout()
plt.show()



import mne
import pandas as pd
import matplotlib.pyplot as plt
import os
import pywt
import numpy as np

# Configuración de matplotlib para usar una interfaz gráfica
%matplotlib qt

# Ruta al archivo EDF
edf_file = "eeg-artifacts/aaaaaaju_s007_t000.edf"

# Verificar si el archivo existe
if not os.path.exists(edf_file):
    raise FileNotFoundError(f"El archivo EDF no se encontró en la ruta: {edf_file}")

# Mapeo de canales
channel_mapping = {
    'EEG FP1-REF': 'Fp1', 'EEG FP2-REF': 'Fp2',
    'EEG F3-REF': 'F3', 'EEG F4-REF': 'F4',
    'EEG C3-REF': 'C3', 'EEG C4-REF': 'C4',
    'EEG P3-REF': 'P3', 'EEG P4-REF': 'P4',
    'EEG O1-REF': 'O1', 'EEG O2-REF': 'O2',
    'EEG F7-REF': 'F7', 'EEG F8-REF': 'F8',
    'EEG T3-REF': 'T3', 'EEG T4-REF': 'T4',
    'EEG T5-REF': 'T5', 'EEG T6-REF': 'T6',
    'EEG FZ-REF': 'Fz', 'EEG CZ-REF': 'Cz',
    'EEG PZ-REF': 'Pz'
}

# Cargar el archivo EDF
raw = mne.io.read_raw_edf(edf_file, preload=True, verbose='ERROR')

# Seleccionar y renombrar los canales según el mapeo
channels_to_keep = [ch for ch in raw.ch_names if ch in channel_mapping]
raw.pick(channels_to_keep)
raw.rename_channels(channel_mapping)

# Definir las configuraciones de graficado
plot_configs = [
    {
        'channels': ['Fp1', 'F7'],
        'start_time': 0.0178,
        'stop_time': 1.4167,
        'title': 'musc_elec EEG Promedio de Fp1 y F7 - Intervalo 1: 0.0178s a 1.4167s'
    },
    {
        'channels': ['Fp1', 'F7'],
        'start_time': 46.0178,
        'stop_time': 73.0006,
        'title': 'eyem_musc EEG Promedio de Fp1 y F7 - Intervalo 2: 46.0178s a 73.0006s'
    },
    {
        'channels': ['Fp1', 'F7'],
        'start_time': 365.9994,	
        'stop_time': 470.2732,
        'title': 'eyem EEG Promedio de Fp1 y F7 - Intervalo 3: 409.5513s a 409.8002s'
    },
    {
        'channels': ['Fp1', 'F7'],
        'start_time': 527.0012,
        'stop_time': 	533.0119,
        'title': 'eyem EEG Promedio de Fp1 y F7 - Intervalo 3: 409.5513s a 409.8002s'
    },
    {
        'channels': ['F7', 'T3'],
        'start_time': 409.5513,
        'stop_time': 409.8002,
        'title': 'elec EEG Promedio de F7 y T3 - Intervalo 3: 409.5513s a 409.8002s'
    }
]

# Crear una figura para los espectrogramas
num_plots = len(plot_configs)
fig, axes = plt.subplots(num_plots, 1, figsize=(15, 6 * num_plots), constrained_layout=True)

# Si solo hay un plot, axes no será una lista, así que lo convertimos en una lista
if num_plots == 1:
    axes = [axes]

for idx, config in enumerate(plot_configs):
    channels = config['channels']
    start_time = config['start_time']
    stop_time = config['stop_time']
    title = config['title']
    
    # Verificar que los canales existen
    missing_channels = [ch for ch in channels if ch not in raw.ch_names]
    if missing_channels:
        print(f"Advertencia: Los siguientes canales no se encontraron y serán omitidos en la configuración {idx+1}: {missing_channels}")
        # Continuar solo con los canales disponibles
        channels = [ch for ch in channels if ch in raw.ch_names]
        if not channels:
            print(f"Error: Ninguno de los canales especificados en la configuración {idx+1} está disponible. Se omitirá este plot.")
            continue
    
    # Crear una copia del objeto raw para evitar modificaciones
    raw_interval = raw.copy().pick_channels(channels).crop(tmin=start_time, tmax=stop_time)
    
    # Obtener los datos y el tiempo
    data, times = raw_interval.get_data(return_times=True)
    
    # Promediar las señales de los canales seleccionados (promedio a lo largo de los canales)
    averaged_signal = np.mean(data, axis=0)
    
    # Aplicar CWT a la señal promedio
    scales = np.arange(1, 128)
    wavelet = 'cmor'  # Morlet wavelet complex
    
    coefficients, frequencies = pywt.cwt(averaged_signal, scales, wavelet, sampling_period=1/raw_interval.info['sfreq'])
    
    # Graficar el espectrograma de la CWT
    ax = axes[idx]
    extent = [times[0], times[-1], frequencies[0], frequencies[-1]]
    
    # Usar imshow para visualizar el espectrograma
    im = ax.imshow(np.abs(coefficients), extent=extent, cmap='jet', aspect='auto', origin='lower')
    
    # Añadir una barra de color
    cbar = fig.colorbar(im, ax=ax)
    cbar.set_label("Magnitud")
    
    # Configurar etiquetas y título
    ax.set_title(title)
    ax.set_xlabel("Tiempo (s)")
    ax.set_ylabel("Frecuencia (Hz)")
    
    # Opcional: ajustar las frecuencias para mostrarlas en Hz
    ax.set_ylim(frequencies.min(), frequencies.max())
    
    # Añadir grid si lo deseas
    ax.grid(True)

plt.show()




