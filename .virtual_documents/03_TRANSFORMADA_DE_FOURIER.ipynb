import pywt
import librosa
import numpy as np
import scipy.signal
import matplotlib.pyplot as plt


# Función para generar el espectrograma
def make_spectrum(y, feature_type='logmag', _max=None, _min=None):
    # Procesar la señal de EEG
    if y is None:
        raise ValueError("La señal EEG no puede ser None.")

    # Obtener la ventana Hamming
    window = scipy.signal.get_window('hamming', 512)

    # Aplicar la Transformada de Fourier de corto plazo (STFT)
    D = librosa.stft(y, center=False, n_fft=512, hop_length=160, win_length=512, window=window)
    phase = np.exp(1j * np.angle(D))
    D = np.abs(D)

    # Seleccionar el tipo de característica
    if feature_type == 'logmag':
        Sxx = np.log1p(D)
    elif feature_type == 'lps':
        Sxx = np.log10(D**2)
    else:
        Sxx = D

    return Sxx, phase, len(y)

# Función para reconstruir la señal a partir del espectrograma
def recons_spec_phase(Sxx_r, phase, length_wav, feature_type='logmag'):
    # Reconstruir la magnitud
    if feature_type == 'logmag':
        Sxx_r = np.expm1(Sxx_r)
        Sxx_r = np.clip(Sxx_r, a_min=0., a_max=None)
    elif feature_type == 'lps':
        Sxx_r = np.sqrt(10 ** Sxx_r)

    # Obtener la ventana Hamming
    window = scipy.signal.get_window('hamming', 512)

    # Multiplicar por la fase y aplicar la inversa de STFT
    R = np.multiply(Sxx_r, phase)
    result = librosa.istft(R, center=False, hop_length=160, win_length=512, window=window, length=length_wav)
    return result


fs = 1000
t = np.linspace(0, 1, fs, endpoint=False)
signal = np.sin(2 * np.pi * 50 * t) + 0.5 * np.random.randn(fs)


# Ejemplo de uso con la señal EEG simulada
Sxx, phase, length = make_spectrum(signal)
reconstructed_signal = recons_spec_phase(Sxx, phase, length)


# Plot the original and reconstructed signals
plt.figure(figsize=(12, 6))
plt.subplot(2, 1, 1)
plt.plot(t, signal, label='Original Signal')
plt.title('Original Signal (Time Domain)')
plt.xlabel('Time [s]')
plt.ylabel('Amplitude')
plt.legend()

plt.subplot(2, 1, 2)
plt.plot(t[:len(reconstructed_signal)], reconstructed_signal, label='Reconstructed Signal', color='orange')
plt.title('Reconstructed Signal from DWT')
plt.xlabel('Time [s]')
plt.ylabel('Amplitude')
plt.legend()

plt.tight_layout()
plt.show()



